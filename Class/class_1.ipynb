{
 "cells": [
  {
   "cell_type": "code",
   "execution_count": 28,
   "id": "a9d5d234",
   "metadata": {},
   "outputs": [],
   "source": [
    "class Person :\n",
    "    idx = 1\n",
    "\n",
    "    def __init__(self):\n",
    "        \n",
    "        print(\"Person() class is running\")\n",
    "        self.name = \"Known\"\n",
    "        self.age = 0\n",
    "        self.adrr = \"\"\n",
    "        Person.idx += 1\n",
    "        self.idx = 100\n",
    "        \n",
    "\n",
    "    def setUserName(self, name) :\n",
    "        self.name = name\n",
    "    \n",
    "    def setName(self, name) : \n",
    "        self.name = name\n",
    "\n",
    "    def setAge(self, age) :\n",
    "        self.age = age\n",
    "    \n",
    "    def setAddr(self, addr) :\n",
    "        self.adrr = addr \n",
    "    \n",
    "    def setIdx(self, idx) :\n",
    "        self.idx = idx"
   ]
  },
  {
   "cell_type": "code",
   "execution_count": 29,
   "id": "fd0d205e",
   "metadata": {},
   "outputs": [
    {
     "name": "stdout",
     "output_type": "stream",
     "text": [
      "Person() class is running\n",
      "hong\n",
      "Person() class is running\n"
     ]
    }
   ],
   "source": [
    "hong = Person()\n",
    "hong.setName(\"hong\")\n",
    "print(hong.name)\n",
    " \n",
    "hong.setAge(20)\n",
    "hong.setAddr(\"J\")\n",
    "hong.setIdx = (\"sa\")\n",
    "\n",
    "jeon = Person()\n",
    "jeon.setName(\"jeon\")\n",
    "jeon.setAge(21)\n",
    "jeon.setAddr('hual')\n",
    "jeon.setIdx = (\"suuk\")\n"
   ]
  },
  {
   "cell_type": "code",
   "execution_count": 30,
   "id": "c2c8289d",
   "metadata": {},
   "outputs": [
    {
     "name": "stdout",
     "output_type": "stream",
     "text": [
      "Cat() is running\n",
      "cat name :  cat\n",
      "cat birth:  0\n",
      "cat type :  korean short\n"
     ]
    }
   ],
   "source": [
    "import Class.Animals as a\n",
    "myCat = a.Cat()\n",
    "myCat.name = \"cat\"\n",
    "myCat.birth = \"2025\"\n",
    "myCat.type = \"korean short\"\n",
    "myCat.printInfo()"
   ]
  },
  {
   "cell_type": "code",
   "execution_count": 31,
   "id": "7927b8ea",
   "metadata": {},
   "outputs": [
    {
     "name": "stdout",
     "output_type": "stream",
     "text": [
      "Puppy() is running\n",
      "Puppy name :  cat\n",
      "Puppy birth:  0\n",
      "Puppy type :  sigolujaburu\n",
      "Puppy idx :  1\n"
     ]
    }
   ],
   "source": [
    "import Class.Animals as a\n",
    "myDog = a.Puppy()\n",
    "myDog.name = \"cat\"\n",
    "myDog.birth = \"2025\"\n",
    "myDog.type = \"sigolujaburu\"\n",
    "myDog.idx = 1\n",
    "myDog.printInfo()"
   ]
  }
 ],
 "metadata": {
  "kernelspec": {
   "display_name": "ezen",
   "language": "python",
   "name": "python3"
  },
  "language_info": {
   "codemirror_mode": {
    "name": "ipython",
    "version": 3
   },
   "file_extension": ".py",
   "mimetype": "text/x-python",
   "name": "python",
   "nbconvert_exporter": "python",
   "pygments_lexer": "ipython3",
   "version": "3.13.7"
  }
 },
 "nbformat": 4,
 "nbformat_minor": 5
}
