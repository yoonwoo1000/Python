{
 "cells": [
  {
   "cell_type": "code",
   "execution_count": 7,
   "id": "5422f763",
   "metadata": {},
   "outputs": [],
   "source": [
    "class Animal :\n",
    "    def __init__(self):\n",
    "        print(\"Animal class is running\")\n",
    "        self.name = \"\"\n",
    "        self.birth = \"2025\"\n",
    "    def eat(self, target) :\n",
    "        print(f\"{self.name} eating {target}\")\n",
    "    def sleep(self, time) :\n",
    "        print(f\"{self.name} sleeping for {time} \")\n",
    "    def sound(self, string) :\n",
    "        print(f\"{self.name} say {string}\")\n",
    "    def printInfo(self) :\n",
    "        print(f\"Animal name : {self.name}\" )\n",
    "        print(f\"Animal age : {2025 - int(self.birth)}\" )"
   ]
  },
  {
   "cell_type": "code",
   "execution_count": 8,
   "id": "8720f073",
   "metadata": {},
   "outputs": [],
   "source": [
    "class Cat (Animal) :\n",
    "    def __init__(self) :\n",
    "        super().__init__()\n",
    "        self.type = \"\"\n",
    "    def printInfo(self):\n",
    "        print(f\"cat name :  {self.name}\")\n",
    "        print(f\"cat birth:  {2025 - int(self.birth)}\")\n",
    "        print(f\"cat type :  {self.type}\")"
   ]
  },
  {
   "cell_type": "code",
   "execution_count": 9,
   "id": "444cc23b",
   "metadata": {},
   "outputs": [
    {
     "name": "stdout",
     "output_type": "stream",
     "text": [
      "Animal class is running\n",
      "cat name :  cat\n",
      "cat birth:  0\n",
      "cat type :  korean short\n"
     ]
    }
   ],
   "source": [
    "myCat = Cat()\n",
    "myCat.name = \"cat\"\n",
    "myCat.birth = \"2025\"\n",
    "myCat.type = \"korean short\"\n",
    "myCat.printInfo()"
   ]
  },
  {
   "cell_type": "code",
   "execution_count": 10,
   "id": "264ff972",
   "metadata": {},
   "outputs": [],
   "source": [
    "class Puppy (Animal):\n",
    "    def __init__(self):\n",
    "        super().__init__\n",
    "        self.type = \"\"\n",
    "        self.idx = 0\n",
    "\n",
    "    def printInfo(self):\n",
    "        print(f\"Puppy name :  {self.name}\")\n",
    "        print(f\"Puppy birth:  {2025 - int(self.birth)}\")\n",
    "        print(f\"Puppy type :  {self.type}\")\n",
    "        print(f\"Puppy idx :  {self.idx}\")"
   ]
  },
  {
   "cell_type": "code",
   "execution_count": null,
   "id": "728d9bc8",
   "metadata": {},
   "outputs": [
    {
     "name": "stdout",
     "output_type": "stream",
     "text": [
      "Puppy name :  dog\n",
      "Puppy birth:  0\n",
      "Puppy type :  sigolujaburu\n",
      "Puppy idx :  1\n"
     ]
    }
   ],
   "source": [
    "myDog = Puppy()\n",
    "myDog.name = \"dog \"\n",
    "myDog.birth = \"2025\"\n",
    "myDog.type = \"sigolujaburu\"\n",
    "myDog.idx = 1\n",
    "myDog.printInfo()"
   ]
  },
  {
   "cell_type": "code",
   "execution_count": 12,
   "id": "8a9a29b2",
   "metadata": {},
   "outputs": [
    {
     "name": "stdout",
     "output_type": "stream",
     "text": [
      "cat eating g\n",
      "cat sleeping for 12 \n",
      "cat say meow\n",
      "dog eating m\n",
      "dog sleeping for 8 \n",
      "dog say waaa\n"
     ]
    }
   ],
   "source": [
    "myCat.eat(\"g\")\n",
    "myCat.sleep(12)\n",
    "myCat.sound(\"meow\")\n",
    "\n",
    "myDog.eat(\"m\")\n",
    "myDog.sleep(8)\n",
    "myDog.sound(\"waaa\")"
   ]
  }
 ],
 "metadata": {
  "kernelspec": {
   "display_name": "ezen",
   "language": "python",
   "name": "python3"
  },
  "language_info": {
   "codemirror_mode": {
    "name": "ipython",
    "version": 3
   },
   "file_extension": ".py",
   "mimetype": "text/x-python",
   "name": "python",
   "nbconvert_exporter": "python",
   "pygments_lexer": "ipython3",
   "version": "3.13.7"
  }
 },
 "nbformat": 4,
 "nbformat_minor": 5
}
