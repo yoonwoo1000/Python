{
 "cells": [
  {
   "cell_type": "code",
   "execution_count": 805,
   "id": "e5e86331",
   "metadata": {},
   "outputs": [],
   "source": [
    "file = open(\"file.txt\", \"w\", encoding=\"UTF8\")\n",
    "data = open(\"data.txt\", \"r\", encoding=\"UTF8\")"
   ]
  },
  {
   "cell_type": "code",
   "execution_count": 806,
   "id": "8e9bc3d1",
   "metadata": {},
   "outputs": [
    {
     "data": {
      "text/plain": [
       "'hong\\n30 \\njeonju \\nmale'"
      ]
     },
     "execution_count": 806,
     "metadata": {},
     "output_type": "execute_result"
    }
   ],
   "source": [
    "file.write(\"Hello, World!\\n\")\n",
    "file.close()\n",
    "\n",
    "data.read()\n"
   ]
  },
  {
   "cell_type": "code",
   "execution_count": 807,
   "id": "b9c396e9",
   "metadata": {},
   "outputs": [],
   "source": [
    "data = open(\"data.txt\", \"r\", encoding=\"UTF8\")\n",
    "data.read()\n",
    "data.close()\n",
    "\n"
   ]
  },
  {
   "cell_type": "code",
   "execution_count": 808,
   "id": "a1993f3c",
   "metadata": {},
   "outputs": [
    {
     "name": "stdout",
     "output_type": "stream",
     "text": [
      "hong\n",
      "30 \n",
      "jeonju \n",
      "male"
     ]
    }
   ],
   "source": [
    "data = open(\"data.txt\", \"r\", encoding=\"UTF8\")\n",
    "line = data.readline()\n",
    "print(line, end=\"\")\n",
    "line = data.readline()\n",
    "print(line, end=\"\")\n",
    "line = data.readline()\n",
    "print(line, end=\"\")\n",
    "line = data.readline()\n",
    "print(line, end=\"\")\n",
    "data.close()\n",
    "\n"
   ]
  },
  {
   "cell_type": "code",
   "execution_count": 809,
   "id": "161754c5",
   "metadata": {},
   "outputs": [
    {
     "name": "stdout",
     "output_type": "stream",
     "text": [
      "hong\n",
      "30 \n",
      "jeonju \n",
      "male\n",
      "End of file\n"
     ]
    }
   ],
   "source": [
    "data = open(\"data.txt\", \"r\", encoding=\"UTF8\")\n",
    "while True:\n",
    "    line = data.readline()\n",
    "    if not line:\n",
    "        print(\"\\nEnd of file\")\n",
    "        break\n",
    "    print(line, end=\"\")\n",
    "data.close()"
   ]
  },
  {
   "cell_type": "code",
   "execution_count": 810,
   "id": "277da755",
   "metadata": {},
   "outputs": [
    {
     "name": "stdout",
     "output_type": "stream",
     "text": [
      "hong\n",
      "30 \n",
      "jeonju \n",
      "male\n",
      "['hong\\n', '30 \\n', 'jeonju \\n', 'male'] <class 'list'> 4\n"
     ]
    }
   ],
   "source": [
    "data = open(\"data.txt\", \"r\", encoding=\"UTF8\")\n",
    "lines = data.readlines()\n",
    "for line in lines :\n",
    "    print(line, end=\"\")\n",
    "print(\"\")\n",
    "print(lines, type(lines), len(lines))\n",
    "data.close()"
   ]
  },
  {
   "cell_type": "code",
   "execution_count": 811,
   "id": "950b3742",
   "metadata": {},
   "outputs": [],
   "source": [
    "file = open(\"newData.txt\", \"w\", encoding=\"UTF8\")\n",
    "file.write(\"World!\\n\")\n",
    "file.write(\"seconde line\\n\")\n",
    "file.write(\"third line\\n\")\n",
    "file.close()"
   ]
  },
  {
   "cell_type": "code",
   "execution_count": 812,
   "id": "1419816c",
   "metadata": {},
   "outputs": [],
   "source": [
    "import os\n",
    "path = \"d:/temp/\"\n",
    "if not os.path.exists(path):\n",
    "    print(f\"{path} not exists, create directory\")\n",
    "    os.makedirs(path)\n",
    "\n",
    "file = open(f\"{path}newData.txt\", \"w\", encoding=\"UTF8\")\n",
    "file.write(\"World!\\n\")\n",
    "file.write(\"seconde line\\n\")\n",
    "file.write(\"third line\\n\")\n",
    "file.close()"
   ]
  },
  {
   "cell_type": "code",
   "execution_count": 813,
   "id": "40a01c7c",
   "metadata": {},
   "outputs": [],
   "source": [
    "path = \"d:/temp/\"\n",
    "if not os.path.exists(path):\n",
    "    print(f\"{path} not exists, create directory\")\n",
    "    os.makedirs(path)\n",
    "\n",
    "file = open(f\"{path}newData.txt\", \"a\", encoding=\"UTF8\")\n",
    "\n",
    "file.write(\"World?\\n\")\n",
    "file.write(\"seconde line\\n\")\n",
    "file.write(\"third line\\n\")\n",
    "file.close()"
   ]
  },
  {
   "cell_type": "code",
   "execution_count": 814,
   "id": "b80c8e76",
   "metadata": {},
   "outputs": [
    {
     "name": "stdout",
     "output_type": "stream",
     "text": [
      "hong\n",
      "\n",
      "<class 'str'> 5\n"
     ]
    }
   ],
   "source": [
    "data = None\n",
    "with open(\"data.txt\", \"r\", encoding=\"UTF8\") as f:\n",
    "    data = f.readline()\n",
    "print(data)\n",
    "print(type(data), len(data))"
   ]
  },
  {
   "cell_type": "code",
   "execution_count": 815,
   "id": "3b553d08",
   "metadata": {},
   "outputs": [],
   "source": [
    "with open(\"data2.txt\", \"w\", encoding=\"UTF8\") as f: \n",
    "    f.write(\"Hello, World!\\n\")"
   ]
  },
  {
   "cell_type": "code",
   "execution_count": 816,
   "id": "59af724e",
   "metadata": {},
   "outputs": [],
   "source": [
    "with open(\"data2.txt\", \"a\", encoding=\"UTF8\") as f: \n",
    "    f.write(\"Hello, new World!\\n\")"
   ]
  },
  {
   "cell_type": "code",
   "execution_count": 817,
   "id": "bd23cb20",
   "metadata": {},
   "outputs": [
    {
     "name": "stdout",
     "output_type": "stream",
     "text": [
      "Hello, World!\n",
      "Hello, new World!\n",
      "\n",
      "['Hello, World!\\n', 'Hello, new World!\\n']\n"
     ]
    }
   ],
   "source": [
    "with open(\"data2.txt\", \"r\", encoding=\"UTF8\") as f:\n",
    "    content = f.read()\n",
    "print(content)\n",
    "\n",
    "with open(\"data2.txt\", \"r\", encoding=\"UTF8\") as f:\n",
    "    lines = f.readlines()\n",
    "print(lines)"
   ]
  },
  {
   "cell_type": "code",
   "execution_count": 818,
   "id": "5cb5c466",
   "metadata": {},
   "outputs": [
    {
     "name": "stdout",
     "output_type": "stream",
     "text": [
      "['관리번호,이름,학년,성별,전화번호,장학금여부,회비\\n', '1,홍길동,1,m,010-0000-0000,TRUE,10000\\n', '2,전우치,2,m,010-1111-1111,FALSE,1000']\n",
      "['관리번호', '이름', '학년', '성별', '전화번호', '장학금여부', '회비\\n']\n",
      "['1', '홍길동', '1', 'm', '010-0000-0000', 'TRUE', '10000\\n']\n",
      "['2', '전우치', '2', 'm', '010-1111-1111', 'FALSE', '1000']\n"
     ]
    }
   ],
   "source": [
    "with open(\"data.csv\", \"r\", encoding=\"UTF8\") as f:\n",
    "    datas = f.readlines()\n",
    "print(datas)\n",
    "\n",
    "for data in datas :\n",
    "    split_datas = data.split(\",\")\n",
    "    print(split_datas)\n"
   ]
  },
  {
   "cell_type": "code",
   "execution_count": 819,
   "id": "dc5fd8bd",
   "metadata": {},
   "outputs": [
    {
     "name": "stdout",
     "output_type": "stream",
     "text": [
      "['관리번호', '이름', '학년', '성별', '전화번호', '장학금여부', '회비']\n",
      "['1', '홍길동', '1', 'm', '010-0000-0000', 'TRUE', '10000']\n",
      "['2', '전우치', '2', 'm', '010-1111-1111', 'FALSE', '1000']\n"
     ]
    }
   ],
   "source": [
    "import csv\n",
    "\n",
    "with open(\"data.csv\", \"r\", encoding=\"UTF8\") as f:\n",
    "    datas = csv.reader(f)\n",
    "    for data in datas :\n",
    "        print(data)\n",
    "\n"
   ]
  },
  {
   "cell_type": "code",
   "execution_count": 820,
   "id": "8e1bc62d",
   "metadata": {},
   "outputs": [
    {
     "name": "stdout",
     "output_type": "stream",
     "text": [
      "['School name', 'Male', 'Female']\n",
      "남학생이 가장 많은 학교 이름 A : 1100\n",
      "여학생이 가장 많은 학교 이름 D : 2300\n",
      "남학생 총 인원수 2900\n",
      "여학생 총 인원수 5300\n",
      "학생 총 인원수 8200\n"
     ]
    }
   ],
   "source": [
    "import csv\n",
    "\n",
    "max_boy_name = \"\"\n",
    "max_boy_number = -1\n",
    "max_girl_name = \"\"\n",
    "max_girl_number = -1\n",
    "\n",
    "boy_total = 0\n",
    "girl_total = 0\n",
    "\n",
    "with open(\"students.csv\", \"r\", encoding=\"UTF8\") as data:\n",
    "    lines = csv.reader(data)\n",
    "    line_number = 0\n",
    "    col_list = []\n",
    "    \n",
    "    for line in lines :\n",
    "        line_number += 1\n",
    "        if line_number == 1 :\n",
    "            col_list = line\n",
    "            print(col_list)\n",
    "            continue\n",
    "\n",
    "     # 남학생 총 인원수에 숫자를 더하기\n",
    "        if \",\" in line[1] : # 숫자에 , 처리\n",
    "            line[1] = line[1].replace(\",\",\"\")\n",
    "        cur_boy_number = int(line[1])   # 정수로 변환\n",
    "        boy_total += cur_boy_number\n",
    "        if cur_boy_number > max_boy_number :\n",
    "            max_boy_number = cur_boy_number\n",
    "            max_boy_name = line[0]\n",
    "\n",
    "\n",
    "        # 여학생 인원수\n",
    "        if \",\" in line[2] : # 숫자에 , 처리\n",
    "            line[2] = line[2].replace(\",\",\"\")\n",
    "        cur_girl_number = int(line[2])   # 정수로 변환\n",
    "        girl_total += cur_girl_number\n",
    "\n",
    "        if cur_girl_number > max_girl_number :\n",
    "            max_girl_number = cur_girl_number\n",
    "            max_girl_name = line[0]\n",
    "\n",
    "print(f\"남학생이 가장 많은 학교 이름 {max_boy_name} : {max_boy_number}\")\n",
    "print(f\"여학생이 가장 많은 학교 이름 {max_girl_name} : {max_girl_number}\")\n",
    "print(f\"남학생 총 인원수 {boy_total}\")\n",
    "print(f\"여학생 총 인원수 {girl_total}\")\n",
    "print(f\"학생 총 인원수 {boy_total+girl_total}\")\n"
   ]
  },
  {
   "cell_type": "code",
   "execution_count": 821,
   "id": "0cd482b9",
   "metadata": {},
   "outputs": [
    {
     "name": "stdout",
     "output_type": "stream",
     "text": [
      "{'School name': 'A', 'Male': 1100, 'Female': 900}\n",
      "{'School name': 'B', 'Male': 1000, 'Female': 1200}\n",
      "{'School name': 'C', 'Male': 800, 'Female': 900}\n",
      "{'School name': 'D', 'Male': 0, 'Female': 2300}\n",
      "[{'School name': 'A', 'Male': 1100, 'Female': 900}, {'School name': 'B', 'Male': 1000, 'Female': 1200}, {'School name': 'C', 'Male': 800, 'Female': 900}, {'School name': 'D', 'Male': 0, 'Female': 2300}]\n",
      "남학생이 가장 많은 학교 이름 A : 1100\n",
      "여학생이 가장 많은 학교 이름 D : 2300\n",
      "남학생 총 인원수 2900\n",
      "여학생 총 인원수 5300\n",
      "학생 총 인원수 8200\n"
     ]
    }
   ],
   "source": [
    "import csv\n",
    "\n",
    "data_list = []\n",
    "\n",
    "with open(\"students.csv\", \"r\", encoding=\"UTF8\") as f:\n",
    "    reader = csv.reader(f)\n",
    "    header = next(reader)\n",
    "    \n",
    "    for line in reader :\n",
    "        if \",\" in line[1] : # 숫자에 , 처리\n",
    "            line[1] = line[1].replace(\",\",\"\")\n",
    "        if \",\" in line[2] : # 숫자에 , 처리\n",
    "            line[2] = line[2].replace(\",\",\"\")\n",
    "        \n",
    "        school_dict = {\n",
    "            header[0] : line[0],\n",
    "            header[1] : int(line[1]),\n",
    "            header[2] : int(line[2])\n",
    "        }\n",
    "\n",
    "  \n",
    "        print(school_dict)\n",
    "        data_list.append(school_dict)\n",
    "    print(data_list)\n",
    "    \n",
    "    max_m = -1\n",
    "    max_f = -1\n",
    "    total_b = 0\n",
    "    total_g = 0\n",
    "    b_name = \"\"\n",
    "    g_name = \"\"\n",
    "\n",
    "    for data in data_list :\n",
    "        cur_boy = data['Male']\n",
    "        cur_girl = data['Female']\n",
    "        \n",
    "        total_b += cur_boy\n",
    "        total_g += cur_girl\n",
    "        if max_m < cur_boy :\n",
    "            max_m = cur_boy\n",
    "            b_name = data['School name']\n",
    "        if max_f < cur_girl :\n",
    "            max_f = cur_girl\n",
    "            g_name = data['School name']\n",
    "\n",
    "    print(f\"남학생이 가장 많은 학교 이름 {b_name} : {max_m}\")\n",
    "    print(f\"여학생이 가장 많은 학교 이름 {g_name} : {max_f}\")\n",
    "    print(f\"남학생 총 인원수 {total_b}\")\n",
    "    print(f\"여학생 총 인원수 {total_g}\")\n",
    "    print(f\"학생 총 인원수 {total_b+total_g}\")\n"
   ]
  },
  {
   "cell_type": "code",
   "execution_count": 822,
   "id": "0e8b9834",
   "metadata": {},
   "outputs": [],
   "source": [
    "nesList = []\n",
    "datas = [1,2,3,4,5,6,54,654,432,32,43,2,4,32,43,2]\n",
    "\n",
    "newList = [data for data in datas]"
   ]
  },
  {
   "cell_type": "code",
   "execution_count": 823,
   "id": "d5e64e31",
   "metadata": {},
   "outputs": [
    {
     "name": "stdout",
     "output_type": "stream",
     "text": [
      "2900\n",
      "1100\n",
      "5300\n",
      "2300\n",
      "8200\n"
     ]
    }
   ],
   "source": [
    "boyList = [ item['Male'] for item in data_list]\n",
    "boyList\n",
    "print(sum(boyList))\n",
    "print(max(boyList))\n",
    "girlList = [item['Female'] for item in data_list]\n",
    "print(sum(girlList))\n",
    "print(max(girlList))\n",
    "\n",
    "print(sum(boyList) + sum(girlList))"
   ]
  },
  {
   "cell_type": "code",
   "execution_count": 824,
   "id": "d994c3f4",
   "metadata": {},
   "outputs": [
    {
     "name": "stdout",
     "output_type": "stream",
     "text": [
      "['학교이름', '남학생', '여학생']\n",
      "['A고교', '1,100', '900 ']\n",
      "['B고교', '1,000', '1,200']\n",
      "['C고교', '800 ', '900 ']\n",
      "['D고교', '0 ', '2,300']\n"
     ]
    }
   ],
   "source": [
    "with open(\"data.tsv\", \"r\", encoding=\"euc-kr\") as f:\n",
    "    reader = csv.reader(f, delimiter=\"\\t\")\n",
    "    for line in reader :\n",
    "        print(line)"
   ]
  }
 ],
 "metadata": {
  "kernelspec": {
   "display_name": "ezen",
   "language": "python",
   "name": "python3"
  },
  "language_info": {
   "codemirror_mode": {
    "name": "ipython",
    "version": 3
   },
   "file_extension": ".py",
   "mimetype": "text/x-python",
   "name": "python",
   "nbconvert_exporter": "python",
   "pygments_lexer": "ipython3",
   "version": "3.13.7"
  }
 },
 "nbformat": 4,
 "nbformat_minor": 5
}
