{
 "cells": [
  {
   "cell_type": "markdown",
   "id": "3a2b7751",
   "metadata": {},
   "source": [
    "* dictionary : \n",
    "* {key : value, key value, ...., key value}\n",
    "* key : name tag of the value\n",
    "* value : vaild for all of the data type"
   ]
  },
  {
   "cell_type": "code",
   "execution_count": 301,
   "id": "eeb13455",
   "metadata": {},
   "outputs": [
    {
     "name": "stdout",
     "output_type": "stream",
     "text": [
      "{'name': 'hong', 'age': 20, 'address': 'seoul', 'scores': [90, 80, 70, 40, 88, 99, 77]}\n"
     ]
    }
   ],
   "source": [
    "dicData = {\n",
    "    \"name\": \"hong\",\n",
    "    \"age\": 20,\n",
    "    \"address\": \"seoul\",\n",
    "    'scores': [90, 80, 70, 40, 88, 99, 77]\n",
    "}\n",
    "print(dicData)"
   ]
  },
  {
   "cell_type": "code",
   "execution_count": 302,
   "id": "ddc7c2b2",
   "metadata": {},
   "outputs": [
    {
     "name": "stdout",
     "output_type": "stream",
     "text": [
      "{'name': 'hong', 'age': 20, 'address': 'seoul', 'scores': [90, 80, 70, 40, 88, 99, 77], 'grade': 3.1, 'activate ': True}\n"
     ]
    }
   ],
   "source": [
    "scores = [90, 80, 70, 40, 88, 99, 77]\n",
    "dicData = {\n",
    "    \"name\": \"hong\",\n",
    "    \"age\": 20,\n",
    "    \"address\": \"seoul\",\n",
    "    'scores': scores,\n",
    "    \"grade\": 3.1,\n",
    "    'activate ': True\n",
    "}\n",
    "print(dicData)"
   ]
  },
  {
   "cell_type": "code",
   "execution_count": 303,
   "id": "99d7073a",
   "metadata": {},
   "outputs": [
    {
     "name": "stdout",
     "output_type": "stream",
     "text": [
      "hong\n",
      "20\n",
      "seoul\n",
      "[90, 80, 70, 40, 88, 99, 77]\n"
     ]
    }
   ],
   "source": [
    "print(dicData['name'])\n",
    "print(dicData['age'])\n",
    "print(dicData['address'])\n",
    "print(dicData['scores'])"
   ]
  },
  {
   "cell_type": "code",
   "execution_count": 304,
   "id": "c1b702d5",
   "metadata": {},
   "outputs": [
    {
     "name": "stdout",
     "output_type": "stream",
     "text": [
      "90\n",
      "80\n",
      "70\n",
      "40\n",
      "88\n",
      "99\n",
      "77\n",
      "{'name': 'hong', 'age': 20, 'address': 'seoul', 'scores': [90, 80, 70, 40, 88, 99, 77], 'grade': 3.1, 'activate ': False}\n",
      "{'name': 'hong', 'age': 20, 'address': 'seoul', 'scores': [90, 80, 70, 40, 88, 99, 77], 'grade': 3.1, 'activate ': False, 'gender': 'M'}\n",
      "90\n",
      "77\n",
      "[90, 80, 70, 40, 88, 99]\n"
     ]
    }
   ],
   "source": [
    "for score in dicData['scores']:\n",
    "    print(score)\n",
    "\n",
    "dicData['activate ']= False\n",
    "print(dicData)\n",
    "\n",
    "dicData['gender'] = 'M'\n",
    "print(dicData) \n",
    "\n",
    "print(dicData['scores'][0])\n",
    "print(dicData['scores'].pop())\n",
    "print(dicData['scores'])    "
   ]
  },
  {
   "cell_type": "code",
   "execution_count": 305,
   "id": "e8851f76",
   "metadata": {},
   "outputs": [
    {
     "name": "stdout",
     "output_type": "stream",
     "text": [
      "dict_keys(['name', 'age', 'address', 'scores', 'grade', 'activate ', 'gender']) <class 'dict_keys'>\n"
     ]
    }
   ],
   "source": [
    "keyList = dicData.keys()\n",
    "print(keyList, type(keyList))"
   ]
  },
  {
   "cell_type": "code",
   "execution_count": 306,
   "id": "b626472d",
   "metadata": {},
   "outputs": [
    {
     "name": "stdout",
     "output_type": "stream",
     "text": [
      "name hong\n",
      "age 20\n",
      "address seoul\n",
      "scores [90, 80, 70, 40, 88, 99]\n",
      "grade 3.1\n",
      "activate  False\n",
      "gender M\n"
     ]
    }
   ],
   "source": [
    "for key in dicData.keys():\n",
    "    print(key, dicData[key])"
   ]
  },
  {
   "cell_type": "code",
   "execution_count": 307,
   "id": "4c157867",
   "metadata": {},
   "outputs": [
    {
     "name": "stdout",
     "output_type": "stream",
     "text": [
      "afge 키가 존재하지 않습니다.\n",
      "age 키가 존재합니다.\n"
     ]
    }
   ],
   "source": [
    "if 'afge' in dicData:\n",
    "    print(\"afge 키가 존재합니다.\")\n",
    "else:\n",
    "    print(\"afge 키가 존재하지 않습니다.\")\n",
    "\n",
    "if 'age' in dicData:\n",
    "    print(\"age 키가 존재합니다.\")\n",
    "else:\n",
    "    print(\"age 키가 존재하지 않습니다.\")"
   ]
  },
  {
   "cell_type": "code",
   "execution_count": 308,
   "id": "31c29f15",
   "metadata": {},
   "outputs": [
    {
     "name": "stdout",
     "output_type": "stream",
     "text": [
      "dict_items([('name', 'hong'), ('age', 20), ('address', 'seoul'), ('scores', [90, 80, 70, 40, 88, 99]), ('grade', 3.1), ('activate ', False), ('gender', 'M')])\n",
      "dict_values(['hong', 20, 'seoul', [90, 80, 70, 40, 88, 99], 3.1, False, 'M'])\n",
      "('name', 'hong') <class 'tuple'>\n",
      "('age', 20) <class 'tuple'>\n",
      "('address', 'seoul') <class 'tuple'>\n",
      "('scores', [90, 80, 70, 40, 88, 99]) <class 'tuple'>\n",
      "('grade', 3.1) <class 'tuple'>\n",
      "('activate ', False) <class 'tuple'>\n",
      "('gender', 'M') <class 'tuple'>\n"
     ]
    }
   ],
   "source": [
    "print(dicData.items())\n",
    "print(dicData.values())\n",
    "\n",
    "for item in dicData.items():\n",
    "    print(item, type(item))"
   ]
  },
  {
   "cell_type": "code",
   "execution_count": 309,
   "id": "21985be8",
   "metadata": {},
   "outputs": [
    {
     "name": "stdout",
     "output_type": "stream",
     "text": [
      "key :  name\n",
      "value :  hong\n",
      "key :  age\n",
      "value :  20\n",
      "key :  address\n",
      "value :  seoul\n",
      "key :  scores\n",
      "value :  [90, 80, 70, 40, 88, 99]\n",
      "key :  grade\n",
      "value :  3.1\n",
      "key :  activate \n",
      "value :  False\n",
      "key :  gender\n",
      "value :  M\n"
     ]
    }
   ],
   "source": [
    "for (key, value) in dicData.items():\n",
    "    print(\"key : \", key)\n",
    "    print(\"value : \", value)"
   ]
  },
  {
   "cell_type": "code",
   "execution_count": 310,
   "id": "9c9d3b92",
   "metadata": {},
   "outputs": [
    {
     "name": "stdout",
     "output_type": "stream",
     "text": [
      "key :  name\n",
      "value :  hong\n",
      "key :  age\n",
      "value :  20\n",
      "key :  address\n",
      "value :  seoul\n",
      "key :  scores\n",
      "value :  [90, 80, 70, 40, 88, 99]\n",
      "key :  grade\n",
      "value :  3.1\n",
      "key :  activate \n",
      "value :  False\n",
      "key :  gender\n",
      "value :  M\n"
     ]
    }
   ],
   "source": [
    "for key, value in dicData.items():\n",
    "    print(\"key : \", key)\n",
    "    print(\"value : \", value)"
   ]
  },
  {
   "cell_type": "code",
   "execution_count": 311,
   "id": "d9e19884",
   "metadata": {},
   "outputs": [
    {
     "name": "stdout",
     "output_type": "stream",
     "text": [
      "{'name': 'hong', 'age': 20, 'address': 'seoul', 'grade': 3.1, 'activate ': False, 'gender': 'M'}\n"
     ]
    }
   ],
   "source": [
    "del(dicData['scores'])\n",
    "print(dicData)\n",
    "\n"
   ]
  },
  {
   "cell_type": "code",
   "execution_count": 312,
   "id": "9d01d000",
   "metadata": {},
   "outputs": [
    {
     "name": "stdout",
     "output_type": "stream",
     "text": [
      "{'name': 'hong', 'age': 20, 'address': 'seoul', 'activate ': False, 'gender': 'M'}\n",
      "{'name': 'hong', 'age': 20, 'address': 'seoul', 'grade': 3.1, 'activate ': False, 'gender': 'M'}\n"
     ]
    }
   ],
   "source": [
    "newDic = {}\n",
    "targetKey = 'grade'\n",
    "for key , value in dicData.items():\n",
    "    if key != targetKey:\n",
    "        newDic[key] = value\n",
    "\n",
    "print(newDic)\n",
    "print(dicData)"
   ]
  },
  {
   "cell_type": "code",
   "execution_count": 313,
   "id": "6a42f0dc",
   "metadata": {},
   "outputs": [
    {
     "name": "stdout",
     "output_type": "stream",
     "text": [
      "{'name': 'hong', 'address': 'seoul', 'gender': 'M'}\n",
      "{'name': 'hong', 'age': 20, 'address': 'seoul', 'grade': 3.1, 'activate ': False, 'gender': 'M'}\n"
     ]
    }
   ],
   "source": [
    "newDic.clear()\n",
    "\n",
    "targetKey = ['grade', 'activate ', 'age']\n",
    "for key , value in dicData.items():\n",
    "    if key not in targetKey:\n",
    "        newDic[key] = value\n",
    "\n",
    "print(newDic)\n",
    "print(dicData)"
   ]
  },
  {
   "cell_type": "code",
   "execution_count": 314,
   "id": "1b6da68e",
   "metadata": {},
   "outputs": [
    {
     "name": "stdout",
     "output_type": "stream",
     "text": [
      "asd key does not exist\n"
     ]
    }
   ],
   "source": [
    "target = input(\"find key : \")\n",
    "if target in newDic.keys():\n",
    "    print(f\"{newDic[target]} is value of {target} key\")\n",
    "else :\n",
    "    print(f\"{target} key does not exist\")"
   ]
  },
  {
   "cell_type": "code",
   "execution_count": 315,
   "id": "9e20eee8",
   "metadata": {},
   "outputs": [
    {
     "name": "stdout",
     "output_type": "stream",
     "text": [
      "hong\n",
      "not exist\n"
     ]
    }
   ],
   "source": [
    "print(newDic.get('name'))\n",
    "result = newDic.get(target, \"not exist\")\n",
    "print(result)"
   ]
  }
 ],
 "metadata": {
  "kernelspec": {
   "display_name": "ezen",
   "language": "python",
   "name": "python3"
  },
  "language_info": {
   "codemirror_mode": {
    "name": "ipython",
    "version": 3
   },
   "file_extension": ".py",
   "mimetype": "text/x-python",
   "name": "python",
   "nbconvert_exporter": "python",
   "pygments_lexer": "ipython3",
   "version": "3.13.7"
  }
 },
 "nbformat": 4,
 "nbformat_minor": 5
}
