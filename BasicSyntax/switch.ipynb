{
 "cells": [
  {
   "cell_type": "code",
   "execution_count": 26,
   "id": "6e2391a0",
   "metadata": {},
   "outputs": [],
   "source": [
    "def DoWork(string):\n",
    "    print(f\"Working on: {string}\")\n",
    "    result = \"hi\"\n",
    "    return result"
   ]
  },
  {
   "cell_type": "code",
   "execution_count": 27,
   "id": "6bec4c4c",
   "metadata": {},
   "outputs": [
    {
     "name": "stdout",
     "output_type": "stream",
     "text": [
      "홍길동\n",
      "Working on: hello\n",
      "hi\n"
     ]
    }
   ],
   "source": [
    "MyFun = DoWork\n",
    "hong = {\n",
    "    \"name\": \"홍길동\",\n",
    "    \"age\": 30,\n",
    "    \"DoWork\": DoWork\n",
    "}\n",
    "\n",
    "print(hong[\"name\"])\n",
    "\n",
    "print(hong[\"DoWork\"](\"hello\"))"
   ]
  },
  {
   "cell_type": "code",
   "execution_count": 28,
   "id": "fcc725c9",
   "metadata": {},
   "outputs": [],
   "source": [
    "def add(x, y):\n",
    "    return x + y\n",
    "def sub(x, y):\n",
    "    return x - y\n",
    "def mul(x, y):\n",
    "    return x * y\n",
    "def div(x, y):\n",
    "    return x / y\n",
    "def intdiv(x, y):\n",
    "    return x // y\n",
    "def mod(x, y):\n",
    "    return x % y\n",
    "def pow(x, y):\n",
    "    return x ** y"
   ]
  },
  {
   "cell_type": "code",
   "execution_count": 29,
   "id": "80ab2bbc",
   "metadata": {},
   "outputs": [],
   "source": [
    "selector = {\n",
    "    '+': add,\n",
    "    '-': sub,\n",
    "    '*': mul,\n",
    "    '/': div,\n",
    "    '//': intdiv,\n",
    "    '%': mod,\n",
    "    '^': pow\n",
    "}"
   ]
  },
  {
   "cell_type": "code",
   "execution_count": 30,
   "id": "b47f16b9",
   "metadata": {},
   "outputs": [
    {
     "name": "stdout",
     "output_type": "stream",
     "text": [
      "1000\n",
      "13\n",
      "7\n",
      "30\n",
      "3.3333333333333335\n",
      "3\n",
      "1\n"
     ]
    }
   ],
   "source": [
    "print(selector['^'](10, 3))\n",
    "print(selector['+'](10, 3))\n",
    "print(selector['-'](10, 3))\n",
    "print(selector['*'](10, 3))\n",
    "print(selector['/'](10, 3))\n",
    "print(selector['//'](10, 3))\n",
    "print(selector['%'](10, 3))\n",
    " "
   ]
  },
  {
   "cell_type": "code",
   "execution_count": 31,
   "id": "149b374d",
   "metadata": {},
   "outputs": [
    {
     "name": "stdout",
     "output_type": "stream",
     "text": [
      "5 ^ 4 = 625\n"
     ]
    }
   ],
   "source": [
    "op = input(\"Operator (+,-,*,/,//,%,^): \")\n",
    "if op in selector.keys():\n",
    "    try:\n",
    "        x = int(input(\"x: \"))\n",
    "        y = int(input(\"y: \"))\n",
    "        result = selector[op](x, y)\n",
    "        print(f\"{x} {op} {y} = {result}\")\n",
    "    except Exception as e:\n",
    "        print(\"Error:\", e)\n",
    "   \n",
    "else:\n",
    "    print(\"Invalid operator\")"
   ]
  }
 ],
 "metadata": {
  "kernelspec": {
   "display_name": "ezen",
   "language": "python",
   "name": "python3"
  },
  "language_info": {
   "codemirror_mode": {
    "name": "ipython",
    "version": 3
   },
   "file_extension": ".py",
   "mimetype": "text/x-python",
   "name": "python",
   "nbconvert_exporter": "python",
   "pygments_lexer": "ipython3",
   "version": "3.13.7"
  }
 },
 "nbformat": 4,
 "nbformat_minor": 5
}
