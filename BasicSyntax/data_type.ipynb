{
 "cells": [
  {
   "cell_type": "markdown",
   "id": "81c69530",
   "metadata": {},
   "source": [
    "* 파이썬의 자료형\n",
    "    * list\n",
    "    "
   ]
  },
  {
   "cell_type": "code",
   "execution_count": 62,
   "id": "449d3f1c",
   "metadata": {},
   "outputs": [
    {
     "name": "stdout",
     "output_type": "stream",
     "text": [
      "1 2 3 4 5 "
     ]
    }
   ],
   "source": [
    "listData = [ 1, 2, 3, 4, 5]\n",
    "for item in listData :\n",
    "    print(item, end=' ')"
   ]
  },
  {
   "cell_type": "code",
   "execution_count": 63,
   "id": "64a062ec",
   "metadata": {},
   "outputs": [
    {
     "name": "stdout",
     "output_type": "stream",
     "text": [
      "4\n",
      "hello\n",
      "['a', 'b']\n",
      "[1, ['a', 'b'], 'hello', 4, 5] <class 'list'> 5\n"
     ]
    }
   ],
   "source": [
    "print(listData[3])\n",
    "listData[2] = \"hello\"\n",
    "print(listData[2])\n",
    "listData[1] = [ \"a\", \"b\"]\n",
    "print(listData[1])\n",
    "print(listData, type(listData), len(listData))"
   ]
  },
  {
   "cell_type": "code",
   "execution_count": 64,
   "id": "9911b88c",
   "metadata": {},
   "outputs": [
    {
     "name": "stdout",
     "output_type": "stream",
     "text": [
      "[1, ['a', 'b'], 'hello', 4, 5, '6'] <class 'list'> 6\n"
     ]
    }
   ],
   "source": [
    "listData.append(\"6\")\n",
    "print(listData, type(listData), len(listData))"
   ]
  },
  {
   "cell_type": "code",
   "execution_count": 65,
   "id": "0e8df4bb",
   "metadata": {},
   "outputs": [
    {
     "name": "stdout",
     "output_type": "stream",
     "text": [
      "[1, ['a', 'b'], 'hello', 4, 'insert', 5, '6'] <class 'list'> 7\n"
     ]
    }
   ],
   "source": [
    "listData.insert(4, \"insert\")\n",
    "print(listData, type(listData), len(listData))"
   ]
  },
  {
   "cell_type": "code",
   "execution_count": 66,
   "id": "37edcce9",
   "metadata": {},
   "outputs": [
    {
     "name": "stdout",
     "output_type": "stream",
     "text": [
      "[1, ['a', 'b'], 'hello', 4, 'insert', 5] 6\n"
     ]
    }
   ],
   "source": [
    "result = listData.pop()\n",
    "print(listData, result)"
   ]
  },
  {
   "cell_type": "code",
   "execution_count": 67,
   "id": "5eedbf88",
   "metadata": {},
   "outputs": [
    {
     "name": "stdout",
     "output_type": "stream",
     "text": [
      "[1, ['a', 'b'], 'hello', 4, 'insert']\n"
     ]
    }
   ],
   "source": [
    "del(listData[5])\n",
    "print(listData)"
   ]
  },
  {
   "cell_type": "code",
   "execution_count": 68,
   "id": "52a82853",
   "metadata": {},
   "outputs": [
    {
     "name": "stdout",
     "output_type": "stream",
     "text": [
      "11\n"
     ]
    }
   ],
   "source": [
    "fruits = (\n",
    "    \"apple\",\n",
    "    \"banana\",\n",
    "    \"cherry\",\n",
    "    \"orange\",\n",
    "    \"kiwi\",\n",
    "    \"melon\",\n",
    "    \"mango\",\n",
    "    \"lemon\",\n",
    "    \"orange\",\n",
    "    \"orange\",\n",
    "    \"orange\",\n",
    ")\n",
    "print(len(fruits))"
   ]
  },
  {
   "cell_type": "code",
   "execution_count": 69,
   "id": "d98e2f75",
   "metadata": {},
   "outputs": [
    {
     "name": "stdout",
     "output_type": "stream",
     "text": [
      "True\n",
      "False\n",
      "4\n",
      "0\n",
      "('apple', 'banana', 'cherry')\n"
     ]
    }
   ],
   "source": [
    "print(\"orange\" in fruits)\n",
    "print(\"durian\" in fruits)\n",
    "print(fruits.count(\"orange\"))\n",
    "print(fruits.count(\"durian\"))\n",
    "print(fruits[:3])\n"
   ]
  },
  {
   "cell_type": "code",
   "execution_count": 70,
   "id": "1485ab87",
   "metadata": {},
   "outputs": [
    {
     "name": "stdout",
     "output_type": "stream",
     "text": [
      "orange is in fruits\n"
     ]
    }
   ],
   "source": [
    "target = \"orange\"\n",
    "if target in fruits :\n",
    "    print(f\"{target} is in fruits\")\n",
    "else :\n",
    "    print(f\"{target} is not in fruits\") "
   ]
  },
  {
   "cell_type": "code",
   "execution_count": 71,
   "id": "f4c1c4eb",
   "metadata": {},
   "outputs": [
    {
     "name": "stdout",
     "output_type": "stream",
     "text": [
      "[4, 4, 5, 6, 7, 11, 45, 54, 76, 432, 534, 654, 654, 876, 2312, 4132, 4312, 321412]\n",
      "[321412, 4312, 4132, 2312, 876, 654, 654, 534, 432, 76, 54, 45, 11, 7, 6, 5, 4, 4]\n",
      "[4, 4, 5, 6, 7, 11, 45, 54, 76, 432, 534, 654, 654, 876, 2312, 4132, 4312, 321412]\n",
      "[4, 4, 5, 6, 7, 11, 45, 54, 76, 432, 534, 654, 654, 876, 2312, 4132, 4312, 321412]\n",
      "['A', 4, 5, 6, 7, 11, 45, 54, 76, 432, 534, 654, 654, 876, 2312, 4132, 4312, 321412]\n"
     ]
    }
   ],
   "source": [
    "data = [\n",
    "    11,\n",
    "    2312,\n",
    "    321412,\n",
    "    432,\n",
    "    4132,\n",
    "    4312,\n",
    "    534,\n",
    "    654,\n",
    "    4,\n",
    "    76,\n",
    "    876,\n",
    "    45,\n",
    "    54,\n",
    "    7,\n",
    "    6,\n",
    "    4,\n",
    "    5,\n",
    "    654,\n",
    "]\n",
    "data.sort()\n",
    "print(data)\n",
    "data.sort(reverse=True)\n",
    "print(data)\n",
    "data.reverse()\n",
    "print(data)\n",
    "\n",
    "newList = data.copy()\n",
    "newList[0] = \"A\"\n",
    "print(data)\n",
    "print(newList)  "
   ]
  },
  {
   "cell_type": "code",
   "execution_count": 72,
   "id": "9c0a5be7",
   "metadata": {},
   "outputs": [
    {
     "name": "stdout",
     "output_type": "stream",
     "text": [
      "abcde bc\n",
      "abcde abcde\n"
     ]
    }
   ],
   "source": [
    "string =\"abcde\"\n",
    "result = string[1:3]\n",
    "print(string, result)\n",
    "result = string[:]\n",
    "print(string, result)\n"
   ]
  },
  {
   "cell_type": "code",
   "execution_count": null,
   "id": "638dd7e7",
   "metadata": {},
   "outputs": [
    {
     "name": "stdout",
     "output_type": "stream",
     "text": [
      "abcd1234\n",
      "abcdabcdabcd\n"
     ]
    },
    {
     "ename": "TypeError",
     "evalue": "unsupported operand type(s) for /: 'str' and 'int'",
     "output_type": "error",
     "traceback": [
      "\u001b[31m---------------------------------------------------------------------------\u001b[39m",
      "\u001b[31mTypeError\u001b[39m                                 Traceback (most recent call last)",
      "\u001b[36mCell\u001b[39m\u001b[36m \u001b[39m\u001b[32mIn[73]\u001b[39m\u001b[32m, line 5\u001b[39m\n\u001b[32m      3\u001b[39m string = \u001b[33m\"\u001b[39m\u001b[33mabcd\u001b[39m\u001b[33m\"\u001b[39m * \u001b[32m3\u001b[39m\n\u001b[32m      4\u001b[39m \u001b[38;5;28mprint\u001b[39m(string)\n\u001b[32m----> \u001b[39m\u001b[32m5\u001b[39m string = \u001b[33;43m\"\u001b[39;49m\u001b[33;43mabcd\u001b[39;49m\u001b[33;43m\"\u001b[39;49m\u001b[43m \u001b[49m\u001b[43m/\u001b[49m\u001b[43m \u001b[49m\u001b[32;43m1\u001b[39;49m\n\u001b[32m      6\u001b[39m \u001b[38;5;28mprint\u001b[39m(string)\n",
      "\u001b[31mTypeError\u001b[39m: unsupported operand type(s) for /: 'str' and 'int'"
     ]
    }
   ],
   "source": [
    "string = \"abcd\" + \"1234\"\n",
    "print(string)\n",
    "string = \"abcd\" * 3\n",
    "print(string)\n",
    "listData = [\"abcd\"] * 3\n",
    "print(listData)\n",
    "listData = [\"abcd\", \"1234\"] + [\n",
    "    1,\n",
    "    2,\n",
    "    3,\n",
    "    4,\n",
    "]\n",
    "print(listData) "
   ]
  }
 ],
 "metadata": {
  "kernelspec": {
   "display_name": "ezen",
   "language": "python",
   "name": "python3"
  },
  "language_info": {
   "codemirror_mode": {
    "name": "ipython",
    "version": 3
   },
   "file_extension": ".py",
   "mimetype": "text/x-python",
   "name": "python",
   "nbconvert_exporter": "python",
   "pygments_lexer": "ipython3",
   "version": "3.13.7"
  }
 },
 "nbformat": 4,
 "nbformat_minor": 5
}
