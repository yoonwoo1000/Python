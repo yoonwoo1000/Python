{
 "cells": [
  {
   "cell_type": "markdown",
   "id": "2eab9054",
   "metadata": {},
   "source": [
    "#### 집합 set\n",
    "* 수학의 집합과 동일한 개념\n",
    "* 중복을 허용하지 않음\n",
    "* 순서가 존재하지 않음 (인덱스가 존재하지 않음)\n",
    "* 어떤 기준에 의해, 여러 원소를 하나의 집단으로 구성한것\n",
    "* 참조변수 = { 원소, 원소, 원소 }"
   ]
  },
  {
   "cell_type": "code",
   "execution_count": null,
   "id": "a6855a40",
   "metadata": {},
   "outputs": [],
   "source": [
    "datas = {\"홍길동\",\"전우치\",\"임꺽정\",\"이몽룡\",\"성춘향\"}\n",
    "print(len(datas))\n",
    "datas = {\"홍길동\",\"전우치\",\"임꺽정\",\"이몽룡\",\"성춘향\",\"홍길동\",\"전우치\",\n",
    "         \"임꺽정\",\"이몽룡\",\"홍길동\",\"전우치\",\"임꺽정\",\"홍길동\",\"전우치\" }\n",
    "print(len(datas)) # 중복을 허용하지 않음 : 원소들은 유일한 값을 갖음\n",
    "print(datas, type(datas))"
   ]
  },
  {
   "cell_type": "code",
   "execution_count": null,
   "id": "3adb1376",
   "metadata": {},
   "outputs": [],
   "source": [
    "setA = {1,2,3,4,5}\n",
    "setB = {4,5,6,7,8}\n",
    "print(setA)\n",
    "print(setB)"
   ]
  },
  {
   "cell_type": "code",
   "execution_count": null,
   "id": "192ecec9",
   "metadata": {},
   "outputs": [],
   "source": [
    "# 합집합\n",
    "# 집합A.union(집합B) == 집합B.union(집합A) -> 새로운 집합을 반환\n",
    "setC = setA.union(setB)\n",
    "print(setC)\n",
    "setC = None # 초기화 : 어떤 객체도 참조하고 있지 않은 상태\n",
    "print(setC)\n",
    "setC = setB.union(setA)\n",
    "print(setC)"
   ]
  },
  {
   "cell_type": "code",
   "execution_count": null,
   "id": "3f369a80",
   "metadata": {},
   "outputs": [],
   "source": [
    "# 비트 연산자 | (or)로 집합의 합연산이 가능합니다\n",
    "setC = None\n",
    "setC = setA | setB\n",
    "print(setC)"
   ]
  },
  {
   "cell_type": "code",
   "execution_count": null,
   "id": "db58198e",
   "metadata": {},
   "outputs": [],
   "source": [
    "# 교집합\n",
    "setC = None\n",
    "setC = setA.intersection(setB)\n",
    "print(setC)\n",
    "setC = None\n",
    "setC = setB.intersection(setA)\n",
    "print(setC)"
   ]
  },
  {
   "cell_type": "code",
   "execution_count": null,
   "id": "19a844ab",
   "metadata": {},
   "outputs": [],
   "source": [
    "setC = None\n",
    "setC = setA & setB\n",
    "print(setC)\n",
    "setC = None\n",
    "setC = setB & setA\n",
    "print(setC)"
   ]
  },
  {
   "cell_type": "code",
   "execution_count": null,
   "id": "60510b42",
   "metadata": {},
   "outputs": [],
   "source": [
    "# 차집합\n",
    "# A - B != B - A\n",
    "setC = None\n",
    "# A에서 B의 차집합\n",
    "setC = setA.difference(setB)\n",
    "print(setA,setB,setC)\n",
    "# B에서 A의 차집합\n",
    "setC = None\n",
    "setC = setB.difference(setA)\n",
    "print(setA,setB,setC)"
   ]
  },
  {
   "cell_type": "code",
   "execution_count": null,
   "id": "bf8cfb61",
   "metadata": {},
   "outputs": [],
   "source": [
    "setC = None\n",
    "setC = setA - setB\n",
    "print(setA,setB,setC)\n",
    "setC = None\n",
    "setC = setB - setA\n",
    "print(setA,setB,setC)"
   ]
  },
  {
   "cell_type": "code",
   "execution_count": null,
   "id": "ae99e1cf",
   "metadata": {},
   "outputs": [],
   "source": [
    "# 집합에 원소 추가하기\n",
    "setA.add(10)\n",
    "print(setA)\n",
    "# 집합에 여러 원소를 추가하기\n",
    "setB.update([11,22,33])\n",
    "print(setB)"
   ]
  },
  {
   "cell_type": "code",
   "execution_count": null,
   "id": "3675667f",
   "metadata": {},
   "outputs": [],
   "source": [
    "# 집합에서 원소를 삭제하기\n",
    "# 집합이름.remove(원소)\n",
    "setA.remove(10)\n",
    "print(setA)"
   ]
  },
  {
   "cell_type": "code",
   "execution_count": null,
   "id": "4dbeb6a1",
   "metadata": {},
   "outputs": [
    {
     "name": "stdout",
     "output_type": "stream",
     "text": [
      "[12, 50, 31, 1, 99, 75, 2, 60, 100, 4, 2, 50, 12]\n",
      "[1, 2, 99, 100, 4, 75, 12, 50, 60, 31]\n"
     ]
    }
   ],
   "source": [
    "datas = [ 12, 50, 31, 1, 99, 75, 2, 60, 100, 4, 2, 50, 12 ]\n",
    "# 중복 제거 : 리스트를 집합으로 변환 사용\n",
    "print(datas)\n",
    "tmp = set(datas)    # 임시 저장소에 집합으로 변환해서 저장 (중복제거)\n",
    "newList = list(tmp) # 집합을 리스트로 변환\n",
    "print(newList)\n",
    "# 집합으로 변경시 순서가 임의로 변경, 리스트로 변환해도 임의의 순서"
   ]
  },
  {
   "cell_type": "code",
   "execution_count": 30,
   "id": "a5c9a11c",
   "metadata": {},
   "outputs": [
    {
     "name": "stdout",
     "output_type": "stream",
     "text": [
      "[1, 2, 2, 4, 12, 12, 31, 50, 50, 60, 75, 99, 100]\n",
      "[1, 2, 4, 12, 31, 50, 60, 75, 99, 100]\n"
     ]
    }
   ],
   "source": [
    "datas = [ 12, 50, 31, 1, 99, 75, 2, 60, 100, 4, 2, 50, 12 ]\n",
    "# 중복 제거 : 순서가 중요하지 않을 경우에는 정렬을 통해 확인함\n",
    "datas.sort()\n",
    "print(datas)\n",
    "tmp = set(datas)\n",
    "newList = list(tmp)\n",
    "newList.sort()\n",
    "print(newList)"
   ]
  },
  {
   "cell_type": "code",
   "execution_count": null,
   "id": "c1fcf142",
   "metadata": {},
   "outputs": [
    {
     "name": "stdout",
     "output_type": "stream",
     "text": [
      "1 중복입니다\n",
      "2 중복입니다\n",
      "50 중복입니다\n",
      "12 중복입니다\n",
      "[12, 50, 31, 1, 99, 75, 2, 60, 1, 100, 4, 2, 50, 12]\n",
      "[12, 50, 31, 1, 99, 75, 2, 60, 100, 4]\n"
     ]
    }
   ],
   "source": [
    "datas = [ 12, 50, 31, 1, 99, 75, 2, 60, 1, 100, 4, 2, 50, 12 ]\n",
    "result = [] # 비어있는 리스트를 선언\n",
    "for item in datas :\n",
    "    # result 리스트에 item이 없으면 item을 result 리스트에 넣음\n",
    "    if item not in result :\n",
    "        result.append(item)\n",
    "    else :\n",
    "        print(item,\"중복입니다\")\n",
    "print(datas)    # 원본 리스트\n",
    "print(result)   # 중복 제거 리스트 : 원본의 순서가 유지"
   ]
  }
 ],
 "metadata": {
  "kernelspec": {
   "display_name": "ezen",
   "language": "python",
   "name": "python3"
  },
  "language_info": {
   "codemirror_mode": {
    "name": "ipython",
    "version": 3
   },
   "file_extension": ".py",
   "mimetype": "text/x-python",
   "name": "python",
   "nbconvert_exporter": "python",
   "pygments_lexer": "ipython3",
   "version": "3.10.18"
  }
 },
 "nbformat": 4,
 "nbformat_minor": 5
}
