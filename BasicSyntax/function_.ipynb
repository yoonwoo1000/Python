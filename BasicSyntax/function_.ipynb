{
 "cells": [
  {
   "cell_type": "markdown",
   "id": "61a9adbe",
   "metadata": {},
   "source": [
    "* fuction "
   ]
  },
  {
   "cell_type": "code",
   "execution_count": 93,
   "id": "7fd90c41",
   "metadata": {},
   "outputs": [
    {
     "name": "stdout",
     "output_type": "stream",
     "text": [
      "x =  10 y =  20\n",
      "result =  30\n"
     ]
    }
   ],
   "source": [
    "def MyFun(x , y) :\n",
    "    print(\"x = \", x , \"y = \", y)\n",
    "    return x + y\n",
    "result = MyFun(10, 20)\n",
    "print(\"result = \", result) "
   ]
  },
  {
   "cell_type": "code",
   "execution_count": 94,
   "id": "f6462a66",
   "metadata": {},
   "outputs": [
    {
     "name": "stdout",
     "output_type": "stream",
     "text": [
      "x =  100 y =  200\n",
      "YourFun(100, 200) =  300\n"
     ]
    }
   ],
   "source": [
    "YourFun = MyFun\n",
    "print (\"YourFun(100, 200) = \", YourFun(100, 200))   "
   ]
  },
  {
   "cell_type": "code",
   "execution_count": 95,
   "id": "42788801",
   "metadata": {},
   "outputs": [
    {
     "name": "stdout",
     "output_type": "stream",
     "text": [
      "x =  10 y =  20\n",
      "result =  -10\n"
     ]
    }
   ],
   "source": [
    "def MyFun(x , y) :\n",
    "    print(\"x = \", x , \"y = \", y)\n",
    "    return x - y\n",
    "result = MyFun(10, 20)\n",
    "print(\"result = \", result) "
   ]
  },
  {
   "cell_type": "code",
   "execution_count": 96,
   "id": "21f469d6",
   "metadata": {},
   "outputs": [
    {
     "name": "stdout",
     "output_type": "stream",
     "text": [
      "x =  10 y =  20 z =  40\n",
      "result =  -50\n"
     ]
    }
   ],
   "source": [
    "def MyFun(x , y, z) :\n",
    "    print(\"x = \", x , \"y = \", y , \"z = \", z)\n",
    "    return x - y - z\n",
    "result = MyFun(10, 20, 40)\n",
    "print(\"result = \", result) "
   ]
  },
  {
   "cell_type": "code",
   "execution_count": 97,
   "id": "21782576",
   "metadata": {},
   "outputs": [
    {
     "name": "stdout",
     "output_type": "stream",
     "text": [
      "x =  10 y =  20 z =  40\n",
      "result =  -50\n",
      "x =  10 y =  20 z =  None\n",
      "result =  -10\n"
     ]
    }
   ],
   "source": [
    "def MyFun(x , y, z=None) :\n",
    "    print(\"x = \", x , \"y = \", y , \"z = \", z)\n",
    "    if z == None:\n",
    "        return x - y\n",
    "    else:\n",
    "        return x - y - z\n",
    "result = MyFun(10, 20, 40)\n",
    "print(\"result = \", result) \n",
    "result = MyFun(10, 20)\n",
    "print(\"result = \", result) "
   ]
  },
  {
   "cell_type": "code",
   "execution_count": 98,
   "id": "a5a71472",
   "metadata": {},
   "outputs": [
    {
     "name": "stdout",
     "output_type": "stream",
     "text": [
      "x =  10 y =  20 z =  40\n",
      "result =  -50\n",
      "x =  10 y =  20 z =  None\n",
      "result =  -10\n"
     ]
    }
   ],
   "source": [
    "def MyFun(x , y, z=None) :\n",
    "    print(\"x = \", x , \"y = \", y , \"z = \", z)\n",
    "    if z == None:\n",
    "        return x - y\n",
    "    else:\n",
    "        return x - y - z\n",
    "result = MyFun(10, 20, 40)\n",
    "print(\"result = \", result) \n",
    "result = MyFun(10, 20)\n",
    "print(\"result = \", result) "
   ]
  },
  {
   "cell_type": "code",
   "execution_count": 99,
   "id": "072faa91",
   "metadata": {},
   "outputs": [],
   "source": [
    "def MyFun(name, addr, age, gender) :\n",
    "    print('-' * 20)\n",
    "    print(\"name = \", name)\n",
    "    print(\"addr = \", addr)\n",
    "    print(\"age = \", age)\n",
    "    print(\"gender = \",gender)"
   ]
  },
  {
   "cell_type": "code",
   "execution_count": 100,
   "id": "cd384fa8",
   "metadata": {},
   "outputs": [
    {
     "name": "stdout",
     "output_type": "stream",
     "text": [
      "--------------------\n",
      "name =  Yoon\n",
      "addr =  Seoul\n",
      "age =  30\n",
      "gender =  M\n",
      "--------------------\n",
      "name =  30\n",
      "addr =  Seoul\n",
      "age =  home\n",
      "gender =  M\n",
      "--------------------\n",
      "name =  Yoon\n",
      "addr =  Seoul\n",
      "age =  30\n",
      "gender =  M\n"
     ]
    }
   ],
   "source": [
    "MyFun(\"Yoon\", \"Seoul\", 30, \"M\")\n",
    "MyFun(30, \"Seoul\", 'home', \"M\")\n",
    "MyFun(gender=\"M\", name=\"Yoon\", age=30, addr=\"Seoul\")"
   ]
  },
  {
   "cell_type": "code",
   "execution_count": 101,
   "id": "272c1186",
   "metadata": {},
   "outputs": [],
   "source": [
    "def doSum( *numbers, op=\"+\") :\n",
    "    print(numbers, type(numbers))"
   ]
  },
  {
   "cell_type": "code",
   "execution_count": 102,
   "id": "cb477c27",
   "metadata": {},
   "outputs": [
    {
     "name": "stdout",
     "output_type": "stream",
     "text": [
      "(1,) <class 'tuple'>\n",
      "(1, 2, '*') <class 'tuple'>\n",
      "(1, 2, 3) <class 'tuple'>\n",
      "(1, 2, 3, 4) <class 'tuple'>\n"
     ]
    }
   ],
   "source": [
    "doSum(1, op=\"+\")\n",
    "doSum(1,2, '*')\n",
    "doSum(1,2,3)\n",
    "doSum(1,2,3,4)\n"
   ]
  },
  {
   "cell_type": "code",
   "execution_count": 103,
   "id": "82a18d67",
   "metadata": {},
   "outputs": [],
   "source": [
    "def doSum( *numbers) :\n",
    "    sum = 0\n",
    "    for num in numbers:\n",
    "        sum += num\n",
    "    return sum\n"
   ]
  },
  {
   "cell_type": "code",
   "execution_count": 104,
   "id": "819dc923",
   "metadata": {},
   "outputs": [
    {
     "name": "stdout",
     "output_type": "stream",
     "text": [
      "1\n",
      "3\n",
      "6\n",
      "10\n"
     ]
    }
   ],
   "source": [
    "print(doSum(1))\n",
    "print(doSum(1,2))\n",
    "print(doSum(1,2,3))\n",
    "print(doSum(1,2,3,4))\n"
   ]
  },
  {
   "cell_type": "code",
   "execution_count": 105,
   "id": "a83be90e",
   "metadata": {},
   "outputs": [],
   "source": [
    "def DoCal(x, y) :\n",
    "    sum = x + y\n",
    "    sub = x - y \n",
    "    mul = x * y\n",
    "    div = x / y\n",
    "    return sum, sub, mul, div"
   ]
  },
  {
   "cell_type": "code",
   "execution_count": 106,
   "id": "937d1b0a",
   "metadata": {},
   "outputs": [
    {
     "name": "stdout",
     "output_type": "stream",
     "text": [
      "sum =  120\n",
      "sub =  80\n",
      "mul =  2000\n",
      "div =  5.0\n"
     ]
    }
   ],
   "source": [
    "sum, sub, mul, div = DoCal(100, 20)\n",
    "print(\"sum = \", sum)\n",
    "print(\"sub = \", sub)\n",
    "print(\"mul = \", mul)\n",
    "print(\"div = \", div)"
   ]
  }
 ],
 "metadata": {
  "kernelspec": {
   "display_name": "ezen",
   "language": "python",
   "name": "python3"
  },
  "language_info": {
   "codemirror_mode": {
    "name": "ipython",
    "version": 3
   },
   "file_extension": ".py",
   "mimetype": "text/x-python",
   "name": "python",
   "nbconvert_exporter": "python",
   "pygments_lexer": "ipython3",
   "version": "3.13.7"
  }
 },
 "nbformat": 4,
 "nbformat_minor": 5
}
