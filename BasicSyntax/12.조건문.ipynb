{
 "cells": [
  {
   "cell_type": "markdown",
   "id": "70cde921",
   "metadata": {},
   "source": [
    "#### 조건문\n",
    "* if문 문법\n",
    "    * if 조건문 :  \n",
    "      &emsp; 코드블럭\n",
    "\n",
    "    * if 조건문 :  \n",
    "      &emsp; 코드블럭  \n",
    "      else :  \n",
    "      &emsp; 코드블럭\n",
    "\n",
    "    * if 조건문A :  \n",
    "      &emsp; 코드블럭  \n",
    "      elif 조건문B :  \n",
    "      &emsp; 코드블럭  \n",
    "      else :  \n",
    "      &emsp; 코드블럭\n"
   ]
  },
  {
   "cell_type": "code",
   "execution_count": null,
   "id": "66c836c8",
   "metadata": {},
   "outputs": [],
   "source": [
    "x = 5\n",
    "if x % 2 == 0 :\n",
    "    print(\"x는 짝수입니다\")"
   ]
  },
  {
   "cell_type": "code",
   "execution_count": null,
   "id": "8c078bb1",
   "metadata": {},
   "outputs": [
    {
     "name": "stdout",
     "output_type": "stream",
     "text": [
      "x는 홀수입니다\n"
     ]
    }
   ],
   "source": [
    "x = 5\n",
    "if x % 2 == 0 :\n",
    "    print(x)\n",
    "    print(\"x는 짝수입니다\")\n",
    "else :\n",
    "    print(\"x는 홀수입니다\")"
   ]
  },
  {
   "cell_type": "code",
   "execution_count": null,
   "id": "04d4aee2",
   "metadata": {},
   "outputs": [
    {
     "name": "stdout",
     "output_type": "stream",
     "text": [
      "우대권입니다\n"
     ]
    }
   ],
   "source": [
    "age = 65\n",
    "if age < 19 :\n",
    "    print(\"미성년입니다\")\n",
    "elif age < 60 :\n",
    "    print(\"성인입니다\")\n",
    "else :\n",
    "    print(\"우대권입니다\")"
   ]
  },
  {
   "cell_type": "code",
   "execution_count": null,
   "id": "8338a8ef",
   "metadata": {},
   "outputs": [
    {
     "name": "stdout",
     "output_type": "stream",
     "text": [
      "점수가 정상 범위입니다\n"
     ]
    }
   ],
   "source": [
    "# 0 <= score <= 100\n",
    "# (t/f) <= 100\n",
    "score = 50\n",
    "# 비교 연산의 체이닝\n",
    "# 0 <= score <= 100\n",
    "# 0 <= score and score <= 100\n",
    "if 0 <= score <= 100 :\n",
    "    print(\"점수가 정상 범위입니다\")\n",
    "else :\n",
    "    print(\"점수 데이터가 유효하지 않습니다\")"
   ]
  },
  {
   "cell_type": "code",
   "execution_count": null,
   "id": "621932f7",
   "metadata": {},
   "outputs": [
    {
     "name": "stdout",
     "output_type": "stream",
     "text": [
      "점수 데이터가 유효하지 않습니다\n"
     ]
    }
   ],
   "source": [
    "score = 110\n",
    "if 0 <= score <= 100 :\n",
    "    print(\"점수가 정상 범위입니다\")\n",
    "    if score < 70 :\n",
    "        print(\"낙제\")\n",
    "    else :\n",
    "        if score < 80 :\n",
    "            print(\"C\")\n",
    "        elif score < 90 :\n",
    "            print(\"B\")\n",
    "        else :\n",
    "            print(\"A\")\n",
    "else :\n",
    "    print(\"점수 데이터가 유효하지 않습니다\")"
   ]
  },
  {
   "cell_type": "markdown",
   "id": "794f0d87",
   "metadata": {},
   "source": [
    "#### ※※※ switch - case 문법은 존재하지 않습니다 ※※※"
   ]
  }
 ],
 "metadata": {
  "kernelspec": {
   "display_name": "Python 3 (ipykernel)",
   "language": "python",
   "name": "python3"
  },
  "language_info": {
   "codemirror_mode": {
    "name": "ipython",
    "version": 3
   },
   "file_extension": ".py",
   "mimetype": "text/x-python",
   "name": "python",
   "nbconvert_exporter": "python",
   "pygments_lexer": "ipython3",
   "version": "3.10.18"
  }
 },
 "nbformat": 4,
 "nbformat_minor": 5
}
