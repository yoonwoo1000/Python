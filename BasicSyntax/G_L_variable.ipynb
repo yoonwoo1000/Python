{
 "cells": [
  {
   "cell_type": "code",
   "execution_count": 8,
   "id": "079d5fac",
   "metadata": {},
   "outputs": [
    {
     "name": "stdout",
     "output_type": "stream",
     "text": [
      "MyFun() num =  22\n",
      "num =  22\n"
     ]
    }
   ],
   "source": [
    "num = 22\n",
    "\n",
    "\n",
    "def MyFun() :\n",
    "    num = 22\n",
    "    print(\"MyFun() num = \", num)\n",
    "\n",
    "MyFun()\n",
    "print(\"num = \", num)"
   ]
  },
  {
   "cell_type": "code",
   "execution_count": 9,
   "id": "0072ce14",
   "metadata": {},
   "outputs": [
    {
     "name": "stdout",
     "output_type": "stream",
     "text": [
      "MyFun() num =  22\n",
      "num =  22\n"
     ]
    }
   ],
   "source": [
    "\n",
    "def MyFun() :\n",
    "    print(\"MyFun() num = \", num)\n",
    "\n",
    "MyFun()\n",
    "print(\"num = \", num)"
   ]
  },
  {
   "cell_type": "code",
   "execution_count": 10,
   "id": "9a0fc438",
   "metadata": {},
   "outputs": [
    {
     "name": "stdout",
     "output_type": "stream",
     "text": [
      "MyFun() num =  33\n",
      "num =  33\n"
     ]
    }
   ],
   "source": [
    "\n",
    "def MyFun() :\n",
    "    global num\n",
    "    num = 33\n",
    "    print(\"MyFun() num = \", num)\n",
    "\n",
    "MyFun()\n",
    "print(\"num = \", num)"
   ]
  },
  {
   "cell_type": "code",
   "execution_count": 11,
   "id": "c94114bc",
   "metadata": {},
   "outputs": [
    {
     "name": "stdout",
     "output_type": "stream",
     "text": [
      "MyFun() num =  33\n",
      "MyFun() num =  44\n",
      "num =  44\n"
     ]
    }
   ],
   "source": [
    "globals()\n",
    "\n",
    "def MyFun() :\n",
    "    global num\n",
    "    num = 33\n",
    "    print(\"MyFun() num = \", num)\n",
    "    globals()['num'] = 44\n",
    "    print(\"MyFun() num = \", num)\n",
    "\n",
    "MyFun()\n",
    "print(\"num = \", num)"
   ]
  }
 ],
 "metadata": {
  "kernelspec": {
   "display_name": "ezen",
   "language": "python",
   "name": "python3"
  },
  "language_info": {
   "codemirror_mode": {
    "name": "ipython",
    "version": 3
   },
   "file_extension": ".py",
   "mimetype": "text/x-python",
   "name": "python",
   "nbconvert_exporter": "python",
   "pygments_lexer": "ipython3",
   "version": "3.13.7"
  }
 },
 "nbformat": 4,
 "nbformat_minor": 5
}
