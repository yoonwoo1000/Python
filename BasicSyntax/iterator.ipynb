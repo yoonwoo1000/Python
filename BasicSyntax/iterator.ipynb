{
 "cells": [
  {
   "cell_type": "markdown",
   "id": "dadb15a5",
   "metadata": {},
   "source": [
    "* 반복문의 종류\n",
    "    * while \n",
    "        &emsp; 조건문에 사용할 변수 초기화\n",
    "        &emsp; while 조건문 :\n",
    "        &emsp;&emsp; 코드블럭\n",
    "        &emsp;&emsp; 변수증감\n",
    "    * for\n",
    "        &emsp; for 변수 in 객체 :\n",
    "        &emsp;&emsp; 코드블럭\n",
    "    * do-while : 없음"
   ]
  },
  {
   "cell_type": "code",
   "execution_count": 14,
   "id": "5d4577aa",
   "metadata": {},
   "outputs": [
    {
     "name": "stdout",
     "output_type": "stream",
     "text": [
      "1\n",
      "2\n",
      "3\n",
      "4\n",
      "5\n",
      "6\n",
      "7\n",
      "8\n",
      "9\n",
      "10\n"
     ]
    }
   ],
   "source": [
    "n = 1\n",
    "while n <= 10 :\n",
    "    print(n)\n",
    "    n += 1"
   ]
  },
  {
   "cell_type": "code",
   "execution_count": 15,
   "id": "117fb572-a7ca-4057-a032-ea63183ad605",
   "metadata": {},
   "outputs": [
    {
     "name": "stdout",
     "output_type": "stream",
     "text": [
      "2 * 1 =  2\n",
      "2 * 2 =  4\n",
      "2 * 3 =  6\n",
      "2 * 4 =  8\n",
      "2 * 5 = 10\n",
      "2 * 6 = 12\n",
      "2 * 7 = 14\n",
      "2 * 8 = 16\n",
      "2 * 9 = 18\n"
     ]
    }
   ],
   "source": [
    "i = 1\n",
    "while i < 10 :\n",
    "    print (f\"2 * {i} = {i * 2:2}\")\n",
    "    i +=1"
   ]
  },
  {
   "cell_type": "code",
   "execution_count": 16,
   "id": "a11ffc02",
   "metadata": {},
   "outputs": [
    {
     "name": "stdout",
     "output_type": "stream",
     "text": [
      "1 * 1 =  1 | 2 * 1 =  2 | 3 * 1 =  3 | 4 * 1 =  4 | 5 * 1 =  5 | 6 * 1 =  6 | 7 * 1 =  7 | 8 * 1 =  8 | 9 * 1 =  9 | \n",
      "1 * 2 =  2 | 2 * 2 =  4 | 3 * 2 =  6 | 4 * 2 =  8 | 5 * 2 = 10 | 6 * 2 = 12 | 7 * 2 = 14 | 8 * 2 = 16 | 9 * 2 = 18 | \n",
      "1 * 3 =  3 | 2 * 3 =  6 | 3 * 3 =  9 | 4 * 3 = 12 | 5 * 3 = 15 | 6 * 3 = 18 | 7 * 3 = 21 | 8 * 3 = 24 | 9 * 3 = 27 | \n",
      "1 * 4 =  4 | 2 * 4 =  8 | 3 * 4 = 12 | 4 * 4 = 16 | 5 * 4 = 20 | 6 * 4 = 24 | 7 * 4 = 28 | 8 * 4 = 32 | 9 * 4 = 36 | \n",
      "1 * 5 =  5 | 2 * 5 = 10 | 3 * 5 = 15 | 4 * 5 = 20 | 5 * 5 = 25 | 6 * 5 = 30 | 7 * 5 = 35 | 8 * 5 = 40 | 9 * 5 = 45 | \n",
      "1 * 6 =  6 | 2 * 6 = 12 | 3 * 6 = 18 | 4 * 6 = 24 | 5 * 6 = 30 | 6 * 6 = 36 | 7 * 6 = 42 | 8 * 6 = 48 | 9 * 6 = 54 | \n",
      "1 * 7 =  7 | 2 * 7 = 14 | 3 * 7 = 21 | 4 * 7 = 28 | 5 * 7 = 35 | 6 * 7 = 42 | 7 * 7 = 49 | 8 * 7 = 56 | 9 * 7 = 63 | \n",
      "1 * 8 =  8 | 2 * 8 = 16 | 3 * 8 = 24 | 4 * 8 = 32 | 5 * 8 = 40 | 6 * 8 = 48 | 7 * 8 = 56 | 8 * 8 = 64 | 9 * 8 = 72 | \n",
      "1 * 9 =  9 | 2 * 9 = 18 | 3 * 9 = 27 | 4 * 9 = 36 | 5 * 9 = 45 | 6 * 9 = 54 | 7 * 9 = 63 | 8 * 9 = 72 | 9 * 9 = 81 | \n"
     ]
    }
   ],
   "source": [
    "i = 1\n",
    "while i < 10 :\n",
    "    \n",
    "    j = 1\n",
    "    while j < 10 :\n",
    "        print (f\"{j} * {i} = {i * j:2}\", end=' | ')\n",
    "        j += 1\n",
    "    print(\"\")\n",
    "    i +=1"
   ]
  },
  {
   "cell_type": "code",
   "execution_count": 17,
   "id": "196e68af-312e-41a3-b0d7-7f0871933566",
   "metadata": {},
   "outputs": [
    {
     "name": "stdout",
     "output_type": "stream",
     "text": [
      "1 is not even number\n",
      "2\n",
      "3 is not even number\n",
      "4\n",
      "5 is not even number\n",
      "6\n",
      "7 is not even number\n",
      "8\n",
      "9 is not even number\n",
      "10\n",
      "11 is not even number\n",
      "12\n",
      "13 is not even number\n",
      "14\n",
      "15 is not even number\n",
      "16\n",
      "17 is not even number\n",
      "18\n",
      "19 is not even number\n",
      "20\n",
      "21 is not even number\n",
      "22\n",
      "23 is not even number\n",
      "24\n",
      "25 is not even number\n",
      "26\n",
      "27 is not even number\n",
      "28\n",
      "29 is not even number\n",
      "30\n",
      "31 is not even number\n",
      "32\n",
      "33 is not even number\n",
      "34\n",
      "35 is not even number\n",
      "36\n",
      "37 is not even number\n",
      "38\n",
      "39 is not even number\n",
      "40\n",
      "41 is not even number\n",
      "42\n",
      "43 is not even number\n",
      "44\n",
      "45 is not even number\n",
      "46\n",
      "47 is not even number\n",
      "48\n",
      "49 is not even number\n",
      "50\n",
      "51 is not even number\n",
      "52\n",
      "53 is not even number\n",
      "54\n",
      "55 is not even number\n",
      "56\n",
      "57 is not even number\n",
      "58\n",
      "59 is not even number\n",
      "60\n",
      "61 is not even number\n",
      "62\n",
      "63 is not even number\n",
      "64\n",
      "65 is not even number\n",
      "66\n",
      "67 is not even number\n",
      "68\n",
      "69 is not even number\n",
      "70\n",
      "71 is not even number\n",
      "72\n",
      "73 is not even number\n",
      "74\n",
      "75 is not even number\n",
      "76\n",
      "77 is not even number\n",
      "78\n",
      "79 is not even number\n",
      "80\n",
      "81 is not even number\n",
      "82\n",
      "83 is not even number\n",
      "84\n",
      "85 is not even number\n",
      "86\n",
      "87 is not even number\n",
      "88\n",
      "89 is not even number\n",
      "90\n",
      "91 is not even number\n",
      "92\n",
      "93 is not even number\n",
      "94\n",
      "95 is not even number\n",
      "96\n",
      "97 is not even number\n",
      "98\n",
      "99 is not even number\n",
      "100\n"
     ]
    }
   ],
   "source": [
    "n = 1\n",
    "while True :\n",
    "    if n > 100 :\n",
    "        break\n",
    "    if n % 2 == 0 :\n",
    "        print(n)\n",
    "        n += 1\n",
    "        continue\n",
    "    print(f\"{n} is not even number\")\n",
    "    n += 1"
   ]
  },
  {
   "cell_type": "code",
   "execution_count": 18,
   "id": "e0061f9e",
   "metadata": {},
   "outputs": [
    {
     "name": "stdout",
     "output_type": "stream",
     "text": [
      "0 1 2 3 4 5 6 7 8 9 a b c d e f "
     ]
    }
   ],
   "source": [
    "string = \"0123456789abcdef\"\n",
    "for char in string :\n",
    "    print(char, end=' ')"
   ]
  },
  {
   "cell_type": "code",
   "execution_count": 19,
   "id": "3ff79506",
   "metadata": {},
   "outputs": [
    {
     "name": "stdout",
     "output_type": "stream",
     "text": [
      "10 3\n",
      "10 3\n"
     ]
    }
   ],
   "source": [
    "x, y = 10, 3\n",
    "print(x, y)\n",
    "(x, y) = (10, 3)\n",
    "print(x, y)"
   ]
  },
  {
   "cell_type": "code",
   "execution_count": 20,
   "id": "cda6ddfd",
   "metadata": {},
   "outputs": [
    {
     "name": "stdout",
     "output_type": "stream",
     "text": [
      "(10, 20, 30) <class 'tuple'> 3\n"
     ]
    }
   ],
   "source": [
    "tupleData = (10, 20, 30)\n",
    "print(tupleData, type(tupleData), len(tupleData))"
   ]
  },
  {
   "cell_type": "code",
   "execution_count": null,
   "id": "e6615ee1",
   "metadata": {},
   "outputs": [],
   "source": [
    "for itme in tupleData :\n",
    "    print(item) \n",
    "for index in (0, 1, 2) :\n",
    "    print(tupleData[index])"
   ]
  },
  {
   "cell_type": "code",
   "execution_count": 23,
   "id": "2cc14f2b",
   "metadata": {},
   "outputs": [
    {
     "name": "stdout",
     "output_type": "stream",
     "text": [
      "index : 0\n",
      "index : 1\n",
      "index : 2\n",
      "index : 3\n",
      "index : 4\n",
      "index : 5\n",
      "index : 6\n",
      "index : 7\n",
      "index : 8\n",
      "index : 9\n",
      "index : 0\n",
      "index : 1\n",
      "index : 2\n",
      "index : 3\n",
      "index : 4\n",
      "index : 5\n",
      "index : 6\n",
      "index : 7\n",
      "index : 8\n",
      "index : 9\n",
      "index : 5\n",
      "index : 6\n",
      "index : 7\n",
      "index : 8\n",
      "index : 9\n",
      "index : 5\n",
      "index : 8\n",
      "index : 11\n",
      "index : 14\n",
      "index : 17\n",
      "index : 20\n",
      "index : 23\n",
      "index : 26\n",
      "index : 29\n",
      "index : 32\n",
      "index : 35\n",
      "index : 38\n",
      "index : 41\n",
      "index : 44\n",
      "index : 47\n"
     ]
    }
   ],
   "source": [
    "for index in (0,1,2,3,4,5,6,7,8,9) :\n",
    "    print(f\"index : {index}\")\n",
    "for index in range(10) :\n",
    "    print(f\"index : {index}\")\n",
    "for index in range(5, 10) :\n",
    "    print(f\"index : {index}\")\n",
    "for index in range(5, 50, 3) :\n",
    "    print(f\"index : {index}\")"
   ]
  },
  {
   "cell_type": "code",
   "execution_count": 24,
   "id": "7f6301f1",
   "metadata": {},
   "outputs": [
    {
     "name": "stdout",
     "output_type": "stream",
     "text": [
      "15:43:40\n",
      "15:43:40\n"
     ]
    }
   ],
   "source": [
    "print(\"15\", \"43\", \"40\", sep=\":\")\n",
    "hours = 15\n",
    "minutes = 43\n",
    "seconds = 40   \n",
    "print(hours, minutes, seconds, sep=\":\")"
   ]
  },
  {
   "cell_type": "code",
   "execution_count": null,
   "id": "3e9ed6f3",
   "metadata": {},
   "outputs": [],
   "source": [
    "print(\"a\", \"b\", \"c\", \"d\", sep=', ')\n",
    "print(\"a\", \"b\", \"c\", \"d\", sep='\\n')"
   ]
  },
  {
   "cell_type": "code",
   "execution_count": 25,
   "id": "829ab420",
   "metadata": {},
   "outputs": [
    {
     "name": "stdout",
     "output_type": "stream",
     "text": [
      "a b c d "
     ]
    }
   ],
   "source": [
    "for item in (\"a\", \"b\", \"c\", \"d\") :\n",
    "    print(item, end=' ')"
   ]
  }
 ],
 "metadata": {
  "kernelspec": {
   "display_name": "ezen",
   "language": "python",
   "name": "python3"
  },
  "language_info": {
   "codemirror_mode": {
    "name": "ipython",
    "version": 3
   },
   "file_extension": ".py",
   "mimetype": "text/x-python",
   "name": "python",
   "nbconvert_exporter": "python",
   "pygments_lexer": "ipython3",
   "version": "3.13.7"
  }
 },
 "nbformat": 4,
 "nbformat_minor": 5
}
