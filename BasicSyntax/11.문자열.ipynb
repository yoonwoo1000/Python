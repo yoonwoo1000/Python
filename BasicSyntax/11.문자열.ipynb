{
 "cells": [
  {
   "cell_type": "markdown",
   "id": "50b2c8bf",
   "metadata": {},
   "source": [
    "##### 문자열을 다루는 함수들\n",
    "* 여기는 마크다운 입니다\n",
    "    * 노트북 양식은 .ipynb의 확장자를 갖습니다\n",
    "    * 노트북은 세가지의 셀 종류가 있습니다\n",
    "        * 마크다운 셀\n",
    "            * MD(마크다운) 문법을 이용해서, 문서를 작성\n",
    "        * 코드 셀\n",
    "            * 파이썬 문법을 이용해서 프로그래밍 하는 셀\n",
    "        * 출력 셀 (편집할 수 없음)\n",
    "            * 코드 셀의 실행 결과\n",
    "        * 셀은 노트북 커널이 실행중이어야, 실행할 수 있습니다\n",
    "    * 커널\n",
    "        * 노트북을 어느 파이썬 환경에서 실행할지 선택\n",
    "        * 파이썬 환경에 노트북 커널을 설치 -> 설치된 커널을 선택\n",
    "        * 커널은 노트북을 실행합니다\n",
    "        * 커널을 종료하거나, 재시작 할때까지, 커널은 계속 실행중입니다\n",
    "    * 셀을 순차적으로 실행하지 않을때에는, 실행 순서에 주의 해야 합니다"
   ]
  },
  {
   "cell_type": "code",
   "execution_count": null,
   "id": "15d3ad5d",
   "metadata": {},
   "outputs": [],
   "source": [
    "x = 10\n",
    "# 코드 셀의 마지막에 참조변수 이름을 호출하면\n",
    "# 내용이 출력됩니다\n",
    "x"
   ]
  },
  {
   "cell_type": "code",
   "execution_count": null,
   "id": "bcb2fc38",
   "metadata": {},
   "outputs": [],
   "source": [
    "x = input(\"x :\")"
   ]
  },
  {
   "cell_type": "code",
   "execution_count": null,
   "id": "75227aba",
   "metadata": {},
   "outputs": [],
   "source": [
    "print(x)"
   ]
  },
  {
   "cell_type": "code",
   "execution_count": null,
   "id": "dc36e105",
   "metadata": {},
   "outputs": [],
   "source": [
    "timeData = \"2025-09-11 11:18:17\"\n",
    "date = timeData[:10]\n",
    "time = timeData[-8:]"
   ]
  },
  {
   "cell_type": "code",
   "execution_count": null,
   "id": "ce911083",
   "metadata": {},
   "outputs": [],
   "source": [
    "print(\"날짜 정보 : \", date)\n",
    "print(\"시간 정보 : \", time)"
   ]
  },
  {
   "cell_type": "code",
   "execution_count": null,
   "id": "d5df3251",
   "metadata": {},
   "outputs": [],
   "source": [
    "strList = timeData.split(\" \") # \" \"으로 문자열을 나누기\n",
    "print(strList[0],\" / \",strList[1])"
   ]
  },
  {
   "cell_type": "code",
   "execution_count": null,
   "id": "5d946530",
   "metadata": {},
   "outputs": [
    {
     "data": {
      "text/plain": [
       "['Java', 'Python', 'C++', 'JS', 'SQl', 'Ruby', 'node.js']"
      ]
     },
     "execution_count": 56,
     "metadata": {},
     "output_type": "execute_result"
    }
   ],
   "source": [
    "strData = \"Java Python C++ JS SQl Ruby node.js\"\n",
    "strList = strData.split(\" \")\n",
    "strList"
   ]
  },
  {
   "cell_type": "code",
   "execution_count": null,
   "id": "fac212da",
   "metadata": {},
   "outputs": [],
   "source": [
    "# 문자열에서 특정 문자열을 변경하기\n",
    "result = strData.replace(\"J\", \"j\")\n",
    "# 문자열 내부의 모든 대상 문자열을 변경합니다\n",
    "# 원본은 유지되고, 새로운 문자열 객체를 반환\n",
    "result"
   ]
  },
  {
   "cell_type": "code",
   "execution_count": null,
   "id": "8cc4b50d",
   "metadata": {},
   "outputs": [],
   "source": [
    "strData"
   ]
  },
  {
   "cell_type": "code",
   "execution_count": null,
   "id": "b19b5ee9",
   "metadata": {},
   "outputs": [],
   "source": [
    "result = strData.replace(\"JS\", \"JavaScript\")\n",
    "result"
   ]
  },
  {
   "cell_type": "code",
   "execution_count": null,
   "id": "fa6c26fe",
   "metadata": {},
   "outputs": [],
   "source": [
    "# 문자열에서 특정 문자열이 몇번 나오는가?\n",
    "print(strData.count(\"J\"))\n",
    "print(strData.count(\"j\"))\n",
    "print(strData.count(\"q\"))\n",
    "print(strData.count(\"JS\"))\n",
    "print(strData.count(\"Js\"))\n",
    "# 문자열에 대상 문자열이 있음 : 횟수\n",
    "# 문자열에 대상 문자열이 없음 : 0"
   ]
  },
  {
   "cell_type": "code",
   "execution_count": null,
   "id": "369e8565",
   "metadata": {},
   "outputs": [
    {
     "name": "stdout",
     "output_type": "stream",
     "text": [
      "5\n"
     ]
    }
   ],
   "source": [
    "# 문자열에서 특정 문자열이 시작되는 인덱스\n",
    "# strData = 'Java Python C++ JS SQl Ruby node.js'\n",
    "idxNum = strData.index(\"Python\")\n",
    "print(idxNum)\n",
    "# 대상 문자열에 특정 문자열이 없으면 오류 발생\n",
    "# 해결방법\n",
    "# -> 대상 문자열에 특정 문자열이 몇번 나오는지 확인\n",
    "# -> 0이 아니면 index() 호출\n",
    "# idxNum = strData.index(\"python\")"
   ]
  },
  {
   "cell_type": "code",
   "execution_count": null,
   "id": "baaa8fea",
   "metadata": {},
   "outputs": [
    {
     "name": "stdout",
     "output_type": "stream",
     "text": [
      "5\n",
      "-1\n"
     ]
    }
   ],
   "source": [
    "# 대상 문자열에 특정 문자열의 인덱스를 반환\n",
    "# 없으면 -1 반환\n",
    "idxNum = strData.find(\"Python\")\n",
    "print(idxNum)\n",
    "idxNum = strData.find(\"python\")\n",
    "print(idxNum)"
   ]
  },
  {
   "cell_type": "code",
   "execution_count": null,
   "id": "5bbac8d4",
   "metadata": {},
   "outputs": [
    {
     "name": "stdout",
     "output_type": "stream",
     "text": [
      "True\n",
      "False\n"
     ]
    }
   ],
   "source": [
    "# 대상 문자열에 특정 문자열이 있습니까?\n",
    "# 연산자 in : 원소가 여러개인 객체에 특정 객체가 있는지\n",
    "result = \"Ruby\" in strData\n",
    "print(result)\n",
    "result = \"ruby\" in strData\n",
    "print(result)"
   ]
  },
  {
   "cell_type": "code",
   "execution_count": null,
   "id": "6b6b0be6",
   "metadata": {},
   "outputs": [
    {
     "name": "stdout",
     "output_type": "stream",
     "text": [
      "['Java', 'Python', 'C++', 'JS', 'SQl', 'Ruby', 'node.js']\n",
      "False\n",
      "False\n"
     ]
    }
   ],
   "source": [
    "strList = strData.split(\" \")\n",
    "print(strList)\n",
    "result = \"Ruby\" in strList\n",
    "print(result)\n",
    "result = \"ruby\" in strList\n",
    "print(result)"
   ]
  }
 ],
 "metadata": {
  "kernelspec": {
   "display_name": "ezen",
   "language": "python",
   "name": "python3"
  },
  "language_info": {
   "codemirror_mode": {
    "name": "ipython",
    "version": 3
   },
   "file_extension": ".py",
   "mimetype": "text/x-python",
   "name": "python",
   "nbconvert_exporter": "python",
   "pygments_lexer": "ipython3",
   "version": "3.10.18"
  }
 },
 "nbformat": 4,
 "nbformat_minor": 5
}
