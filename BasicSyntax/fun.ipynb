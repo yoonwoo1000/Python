{
 "cells": [
  {
   "cell_type": "code",
   "execution_count": 18,
   "id": "fbc51ce7",
   "metadata": {},
   "outputs": [
    {
     "name": "stdout",
     "output_type": "stream",
     "text": [
      "result =  30\n",
      "result =  -10\n"
     ]
    }
   ],
   "source": [
    "import fun as f\n",
    "result = f.add(10, 20)\n",
    "print(\"result = \", result)\n",
    "result = f.sub(10, 20)\n",
    "print(\"result = \", result) "
   ]
  },
  {
   "cell_type": "code",
   "execution_count": 19,
   "id": "65e46a99",
   "metadata": {},
   "outputs": [
    {
     "name": "stdout",
     "output_type": "stream",
     "text": [
      "result =  30\n",
      "result =  -10\n"
     ]
    }
   ],
   "source": [
    "from fun import add as a\n",
    "from fun import sub as s\n",
    "result = a(10, 20)\n",
    "print(\"result = \", result)\n",
    "result = s(10, 20)\n",
    "print(\"result = \", result)"
   ]
  },
  {
   "cell_type": "code",
   "execution_count": 20,
   "id": "76732242",
   "metadata": {},
   "outputs": [
    {
     "name": "stdout",
     "output_type": "stream",
     "text": [
      "result =  30\n",
      "result =  -10\n"
     ]
    }
   ],
   "source": [
    "from fun import add as a,  sub as s\n",
    "\n",
    "result = a(10, 20)\n",
    "print(\"result = \", result)\n",
    "result = s(10, 20)\n",
    "print(\"result = \", result)"
   ]
  }
 ],
 "metadata": {
  "kernelspec": {
   "display_name": "ezen",
   "language": "python",
   "name": "python3"
  },
  "language_info": {
   "codemirror_mode": {
    "name": "ipython",
    "version": 3
   },
   "file_extension": ".py",
   "mimetype": "text/x-python",
   "name": "python",
   "nbconvert_exporter": "python",
   "pygments_lexer": "ipython3",
   "version": "3.13.7"
  }
 },
 "nbformat": 4,
 "nbformat_minor": 5
}
