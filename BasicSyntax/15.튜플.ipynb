{
 "cells": [
  {
   "cell_type": "markdown",
   "id": "2c3266f4",
   "metadata": {},
   "source": [
    "#### 튜플 tuple\n",
    "* 원소의 순서가 존재하고\n",
    "* 원소의 값, 순서, 개수를 변경할수 없는\n",
    "* 리스트\n",
    "* 원소의 등록, 수정, 삭제를 할 수 없는 대신 처리 속도가 빠릅니다\n",
    "* 파이썬은 리스트 처리시, 내부적으로는 튜플로 변환합니다"
   ]
  },
  {
   "cell_type": "code",
   "execution_count": 14,
   "id": "6dbaec36",
   "metadata": {},
   "outputs": [
    {
     "name": "stdout",
     "output_type": "stream",
     "text": [
      "(1, 2, 3, 4, 5, 6, 7, 8, 9)\n",
      "1\n"
     ]
    }
   ],
   "source": [
    "tpl = ( 1, 2, 3, 4, 5, 6, 7, 8, 9 )\n",
    "print(tpl)\n",
    "print(tpl[0])\n",
    "# tpl[0] = 10 : 값 변경은 안됨"
   ]
  },
  {
   "cell_type": "code",
   "execution_count": 15,
   "id": "272553ec",
   "metadata": {},
   "outputs": [
    {
     "name": "stdout",
     "output_type": "stream",
     "text": [
      "(3, 4, 5, 6)\n"
     ]
    }
   ],
   "source": [
    "newTpl = tpl[2:6]   # 슬라이싱은 새로운 객체를 생성\n",
    "print(newTpl)\n",
    "# newTpl[2] = 10"
   ]
  },
  {
   "cell_type": "code",
   "execution_count": 16,
   "id": "ded88106",
   "metadata": {},
   "outputs": [
    {
     "name": "stdout",
     "output_type": "stream",
     "text": [
      "(1, 2, 3, 4, 5, 6, 7, 8, 9) <class 'tuple'>\n",
      "[1, 2, 3, 4, 5, 6, 7, 8, 9] <class 'list'>\n"
     ]
    }
   ],
   "source": [
    "# 튜플을 리스트로 변환하기\n",
    "newList = list(tpl)\n",
    "print(tpl, type(tpl))\n",
    "print(newList, type(newList))"
   ]
  },
  {
   "cell_type": "code",
   "execution_count": 17,
   "id": "6aa85849",
   "metadata": {},
   "outputs": [],
   "source": [
    "newList[4] = 100"
   ]
  },
  {
   "cell_type": "code",
   "execution_count": null,
   "id": "6401b2ff",
   "metadata": {},
   "outputs": [
    {
     "name": "stdout",
     "output_type": "stream",
     "text": [
      "[1, 2, 3, 4, 100, 6, 7, 8, 9] <class 'list'>\n",
      "(1, 2, 3, 4, 100, 6, 7, 8, 9) <class 'tuple'>\n"
     ]
    }
   ],
   "source": [
    "# 리스트를 튜플로 변환하기\n",
    "newTpl = tuple(newList)\n",
    "print(newList, type(newList))\n",
    "print(newTpl, type(newTpl))\n",
    "# tpl = tuple(newList) : 원본 튜플에 반영하고 싶을때"
   ]
  },
  {
   "cell_type": "code",
   "execution_count": 19,
   "id": "82f68803",
   "metadata": {},
   "outputs": [
    {
     "name": "stdout",
     "output_type": "stream",
     "text": [
      "(1, 2, 3, 4, 5) <class 'tuple'>\n",
      "(1, 2, 3, 4, 5) <class 'tuple'>\n"
     ]
    }
   ],
   "source": [
    "# 튜플은 ()를 생략할 수 있습니다\n",
    "x = (1,2,3,4,5)\n",
    "print(x, type(x))\n",
    "x = 1,2,3,4,5\n",
    "print(x, type(x))"
   ]
  }
 ],
 "metadata": {
  "kernelspec": {
   "display_name": "ezen",
   "language": "python",
   "name": "python3"
  },
  "language_info": {
   "codemirror_mode": {
    "name": "ipython",
    "version": 3
   },
   "file_extension": ".py",
   "mimetype": "text/x-python",
   "name": "python",
   "nbconvert_exporter": "python",
   "pygments_lexer": "ipython3",
   "version": "3.10.18"
  }
 },
 "nbformat": 4,
 "nbformat_minor": 5
}
