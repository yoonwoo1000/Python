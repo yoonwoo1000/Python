{
 "cells": [
  {
   "cell_type": "code",
   "execution_count": 6,
   "id": "fe379d27",
   "metadata": {},
   "outputs": [
    {
     "name": "stdout",
     "output_type": "stream",
     "text": [
      "Result :  3.3333333333333335\n",
      "Result :  0.3\n",
      "Error :  division by zero\n",
      "Error :  unsupported operand type(s) for /: 'int' and 'NoneType'\n"
     ]
    }
   ],
   "source": [
    "result = 0\n",
    "x, y = 10, 3\n",
    "\n",
    "\n",
    "try :\n",
    "    result = int(x) / int(y)\n",
    "except Exception as e :\n",
    "    print('Error : ', e)\n",
    "else :\n",
    "    print('Result : ', result)\n",
    "\n",
    "try :\n",
    "    result = int(y) / int(x)\n",
    "except Exception as e :\n",
    "    print('Error : ', e)\n",
    "else :\n",
    "    print('Result : ', result)\n",
    "\n",
    "\n",
    "try :\n",
    "    result = int(x) / 0\n",
    "except Exception as e :\n",
    "    print('Error : ', e)\n",
    "else :\n",
    "    print('Result : ', result)\n",
    "\n",
    "try :\n",
    "    result = 0 / None\n",
    "except Exception as e :\n",
    "    print('Error : ', e)\n",
    "else :\n",
    "    print('Result : ', result)    "
   ]
  }
 ],
 "metadata": {
  "kernelspec": {
   "display_name": "ezen",
   "language": "python",
   "name": "python3"
  },
  "language_info": {
   "codemirror_mode": {
    "name": "ipython",
    "version": 3
   },
   "file_extension": ".py",
   "mimetype": "text/x-python",
   "name": "python",
   "nbconvert_exporter": "python",
   "pygments_lexer": "ipython3",
   "version": "3.13.7"
  }
 },
 "nbformat": 4,
 "nbformat_minor": 5
}
